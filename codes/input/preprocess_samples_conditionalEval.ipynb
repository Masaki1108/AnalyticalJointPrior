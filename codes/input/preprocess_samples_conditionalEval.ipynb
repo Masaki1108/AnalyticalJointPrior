{
 "cells": [
  {
   "cell_type": "code",
   "execution_count": 1,
   "metadata": {
    "Collapsed": "false"
   },
   "outputs": [],
   "source": [
    "import numpy as np\n",
    "from scipy.stats import gaussian_kde\n",
    "from scipy.interpolate import interp1d\n",
    "from scipy.interpolate import RectBivariateSpline\n",
    "from scipy.interpolate import UnivariateSpline\n",
    "import h5py\n",
    "import os,sys\n",
    "import astropy.cosmology as cosmo\n",
    "import astropy.units as u\n",
    "from astropy.cosmology import Planck15\n",
    "import matplotlib.pyplot as plt\n",
    "from tqdm.notebook import tqdm\n",
    "import json\n",
    "import glob\n",
    "import copy\n",
    "import re\n",
    "import pickle\n",
    "\n",
    "import sys\n",
    "#sys.path.append('/home/thomas.callister/CBC/effective-spin-priors/')\n",
    "#from priors import chi_effective_prior_from_isotropic_spins\n",
    "#from priors import joint_prior_from_isotropic_spins\n",
    "\n",
    "output_path = \"preprocessed-single-events-rerun/\"\n",
    "import os\n",
    "if output_path[:-1] not in os.listdir('./'):\n",
    "    os.makedirs(output_path)"
   ]
  },
  {
   "cell_type": "code",
   "execution_count": 2,
   "metadata": {},
   "outputs": [],
   "source": [
    "#This is copy-paste code from '/home/thomas.callister/CBC/effective-spin-priors/priors.py'\n",
    "import numpy as np\n",
    "from scipy.stats import gaussian_kde\n",
    "from scipy.special import spence as PL\n",
    "\n",
    "def Di(z):\n",
    "\n",
    "    \"\"\"\n",
    "    Wrapper for the scipy implmentation of Spence's function.\n",
    "    Note that we adhere to the Mathematica convention as detailed in:\n",
    "    https://reference.wolfram.com/language/ref/PolyLog.html\n",
    "\n",
    "    Inputs\n",
    "    z: A (possibly complex) scalar or array\n",
    "\n",
    "    Returns\n",
    "    Array equivalent to PolyLog[2,z], as defined by Mathematica\n",
    "    \"\"\"\n",
    "\n",
    "    return PL(1.-z+0j)\n",
    "\n",
    "def chi_effective_prior_from_aligned_spins(q,aMax,xs):\n",
    "\n",
    "    \"\"\"\n",
    "    Function defining the conditional priors p(chi_eff|q) corresponding to\n",
    "    uniform, aligned component spin priors.\n",
    "\n",
    "    Inputs\n",
    "    q: Mass ratio value (according to the convention q<1)\n",
    "    aMax: Maximum allowed dimensionless component spin magnitude\n",
    "    xs: Chi_effective value or values at which we wish to compute prior\n",
    "\n",
    "    Returns:\n",
    "    Array of prior values\n",
    "    \"\"\"\n",
    "\n",
    "    # Ensure that `xs` is an array and take absolute value\n",
    "    xs = np.reshape(xs,-1)\n",
    "\n",
    "    # Set up various piecewise cases\n",
    "    pdfs = np.zeros(xs.size)\n",
    "    caseA = (xs>aMax*(1.-q)/(1.+q))*(xs<=aMax)\n",
    "    caseB = (xs<-aMax*(1.-q)/(1.+q))*(xs>=-aMax)\n",
    "    caseC = (xs>=-aMax*(1.-q)/(1.+q))*(xs<=aMax*(1.-q)/(1.+q))\n",
    "\n",
    "    # Select relevant effective spins\n",
    "    x_A = xs[caseA]\n",
    "    x_B = xs[caseB]\n",
    "    x_C = xs[caseC]\n",
    "\n",
    "    pdfs[caseA] = (1.+q)**2.*(aMax-x_A)/(4.*q*aMax**2)\n",
    "    pdfs[caseB] = (1.+q)**2.*(aMax+x_B)/(4.*q*aMax**2)\n",
    "    pdfs[caseC] = (1.+q)/(2.*aMax)\n",
    "\n",
    "    return pdfs\n",
    "\n",
    "def chi_effective_prior_from_isotropic_spins(q,aMax,xs):\n",
    "\n",
    "    \"\"\"\n",
    "    Function defining the conditional priors p(chi_eff|q) corresponding to\n",
    "    uniform, isotropic component spin priors.\n",
    "\n",
    "    Inputs\n",
    "    q: Mass ratio value (according to the convention q<1)\n",
    "    aMax: Maximum allowed dimensionless component spin magnitude\n",
    "    xs: Chi_effective value or values at which we wish to compute prior\n",
    "\n",
    "    Returns:\n",
    "    Array of prior values\n",
    "    \"\"\"\n",
    "\n",
    "    # Ensure that `xs` is an array and take absolute value\n",
    "    xs = np.reshape(np.abs(xs),-1)\n",
    "\n",
    "    # Set up various piecewise cases\n",
    "    pdfs = np.ones(xs.size,dtype=complex)*(-1.)\n",
    "    caseZ = (xs==0)\n",
    "    caseA = (xs>0)*(xs<aMax*(1.-q)/(1.+q))*(xs<q*aMax/(1.+q))\n",
    "    caseB = (xs<aMax*(1.-q)/(1.+q))*(xs>q*aMax/(1.+q))\n",
    "    caseC = (xs>aMax*(1.-q)/(1.+q))*(xs<q*aMax/(1.+q))\n",
    "    caseD = (xs>aMax*(1.-q)/(1.+q))*(xs<aMax/(1.+q))*(xs>=q*aMax/(1.+q))\n",
    "    caseE = (xs>aMax*(1.-q)/(1.+q))*(xs>aMax/(1.+q))*(xs<aMax)\n",
    "    caseF = (xs>=aMax)\n",
    "\n",
    "    # Select relevant effective spins\n",
    "    x_A = xs[caseA]\n",
    "    x_B = xs[caseB]\n",
    "    x_C = xs[caseC]\n",
    "    x_D = xs[caseD]\n",
    "    x_E = xs[caseE]\n",
    "\n",
    "    pdfs[caseZ] = (1.+q)/(2.*aMax)*(2.-np.log(q))\n",
    "\n",
    "    pdfs[caseA] = (1.+q)/(4.*q*aMax**2)*(\n",
    "                    q*aMax*(4.+2.*np.log(aMax) - np.log(q**2*aMax**2 - (1.+q)**2*x_A**2))\n",
    "                    - 2.*(1.+q)*x_A*np.arctanh((1.+q)*x_A/(q*aMax))\n",
    "                    + (1.+q)*x_A*(Di(-q*aMax/((1.+q)*x_A)) - Di(q*aMax/((1.+q)*x_A)))\n",
    "                    )\n",
    "\n",
    "    pdfs[caseB] = (1.+q)/(4.*q*aMax**2)*(\n",
    "                    4.*q*aMax\n",
    "                    + 2.*q*aMax*np.log(aMax)\n",
    "                    - 2.*(1.+q)*x_B*np.arctanh(q*aMax/((1.+q)*x_B))\n",
    "                    - q*aMax*np.log((1.+q)**2*x_B**2 - q**2*aMax**2)\n",
    "                    + (1.+q)*x_B*(Di(-q*aMax/((1.+q)*x_B)) - Di(q*aMax/((1.+q)*x_B)))\n",
    "                    )\n",
    "\n",
    "    pdfs[caseC] = (1.+q)/(4.*q*aMax**2)*(\n",
    "                    2.*(1.+q)*(aMax-x_C)\n",
    "                    - (1.+q)*x_C*np.log(aMax)**2.\n",
    "                    + (aMax + (1.+q)*x_C*np.log((1.+q)*x_C))*np.log(q*aMax/(aMax-(1.+q)*x_C))\n",
    "                    - (1.+q)*x_C*np.log(aMax)*(2. + np.log(q) - np.log(aMax-(1.+q)*x_C))\n",
    "                    + q*aMax*np.log(aMax/(q*aMax-(1.+q)*x_C))\n",
    "                    + (1.+q)*x_C*np.log((aMax-(1.+q)*x_C)*(q*aMax-(1.+q)*x_C)/q)\n",
    "                    + (1.+q)*x_C*(Di(1.-aMax/((1.+q)*x_C)) - Di(q*aMax/((1.+q)*x_C)))\n",
    "                    )\n",
    "\n",
    "    pdfs[caseD] = (1.+q)/(4.*q*aMax**2)*(\n",
    "                    -x_D*np.log(aMax)**2\n",
    "                    + 2.*(1.+q)*(aMax-x_D)\n",
    "                    + q*aMax*np.log(aMax/((1.+q)*x_D-q*aMax))\n",
    "                    + aMax*np.log(q*aMax/(aMax-(1.+q)*x_D))\n",
    "                    - x_D*np.log(aMax)*(2.*(1.+q) - np.log((1.+q)*x_D) - q*np.log((1.+q)*x_D/aMax))\n",
    "                    + (1.+q)*x_D*np.log((-q*aMax+(1.+q)*x_D)*(aMax-(1.+q)*x_D)/q)\n",
    "                    + (1.+q)*x_D*np.log(aMax/((1.+q)*x_D))*np.log((aMax-(1.+q)*x_D)/q)\n",
    "                    + (1.+q)*x_D*(Di(1.-aMax/((1.+q)*x_D)) - Di(q*aMax/((1.+q)*x_D)))\n",
    "                    )\n",
    "\n",
    "    pdfs[caseE] = (1.+q)/(4.*q*aMax**2)*(\n",
    "                    2.*(1.+q)*(aMax-x_E)\n",
    "                    - (1.+q)*x_E*np.log(aMax)**2\n",
    "                    + np.log(aMax)*(\n",
    "                        aMax\n",
    "                        -2.*(1.+q)*x_E\n",
    "                        -(1.+q)*x_E*np.log(q/((1.+q)*x_E-aMax))\n",
    "                        )\n",
    "                    - aMax*np.log(((1.+q)*x_E-aMax)/q)\n",
    "                    + (1.+q)*x_E*np.log(((1.+q)*x_E-aMax)*((1.+q)*x_E-q*aMax)/q)\n",
    "                    + (1.+q)*x_E*np.log((1.+q)*x_E)*np.log(q*aMax/((1.+q)*x_E-aMax))\n",
    "                    - q*aMax*np.log(((1.+q)*x_E-q*aMax)/aMax)\n",
    "                    + (1.+q)*x_E*(Di(1.-aMax/((1.+q)*x_E)) - Di(q*aMax/((1.+q)*x_E)))\n",
    "                    )\n",
    "\n",
    "    pdfs[caseF] = 0.\n",
    "\n",
    "    # Deal with spins on the boundary between cases\n",
    "    if np.any(pdfs==-1):\n",
    "        boundary = (pdfs==-1)\n",
    "        pdfs[boundary] = 0.5*(chi_effective_prior_from_isotropic_spins(q,aMax,xs[boundary]+1e-6)\\\n",
    "                        + chi_effective_prior_from_isotropic_spins(q,aMax,xs[boundary]-1e-6))\n",
    "\n",
    "    return np.real(pdfs)\n",
    "\n",
    "def chi_p_prior_from_isotropic_spins(q,aMax,xs):\n",
    "\n",
    "    \"\"\"\n",
    "    Function defining the conditional priors p(chi_p|q) corresponding to\n",
    "    uniform, isotropic component spin priors.\n",
    "\n",
    "    Inputs\n",
    "    q: Mass ratio value (according to the convention q<1)\n",
    "    aMax: Maximum allowed dimensionless component spin magnitude\n",
    "    xs: Chi_p value or values at which we wish to compute prior\n",
    "\n",
    "    Returns:\n",
    "    Array of prior values\n",
    "    \"\"\"\n",
    "\n",
    "    # Ensure that `xs` is an array and take absolute value\n",
    "    xs = np.reshape(xs,-1)\n",
    "\n",
    "    # Set up various piecewise cases\n",
    "    pdfs = np.zeros(xs.size)\n",
    "    caseA = xs<q*aMax*(3.+4.*q)/(4.+3.*q)\n",
    "    caseB = (xs>=q*aMax*(3.+4.*q)/(4.+3.*q))*(xs<aMax)\n",
    "\n",
    "    # Select relevant effective spins\n",
    "    x_A = xs[caseA]\n",
    "    x_B = xs[caseB]\n",
    "\n",
    "    pdfs[caseA] = (1./(aMax**2*q))*((4.+3.*q)/(3.+4.*q))*(\n",
    "                    np.arccos((4.+3.*q)*x_A/((3.+4.*q)*q*aMax))*(\n",
    "                        aMax\n",
    "                        - np.sqrt(aMax**2-x_A**2)\n",
    "                        + x_A*np.arccos(x_A/aMax)\n",
    "                        )\n",
    "                    + np.arccos(x_A/aMax)*(\n",
    "                        aMax*q*(3.+4.*q)/(4.+3.*q)\n",
    "                        - np.sqrt(aMax**2*q**2*((3.+4.*q)/(4.+3.*q))**2 - x_A**2)\n",
    "                        + x_A*np.arccos((4.+3.*q)*x_A/((3.+4.*q)*aMax*q))\n",
    "                        )\n",
    "                    )\n",
    "                    \n",
    "    pdfs[caseB] = (1./aMax)*np.arccos(x_B/aMax)\n",
    "\n",
    "    return pdfs\n",
    "\n",
    "def joint_prior_from_isotropic_spins(q,aMax,xeffs,xps,ndraws=10000,bw_method='scott'):\n",
    "\n",
    "    \"\"\"\n",
    "    Function to calculate the conditional priors p(xp|xeff,q) on a set of {xp,xeff,q} posterior samples.\n",
    "\n",
    "    INPUTS\n",
    "    q: Mass ratio\n",
    "    aMax: Maximimum spin magnitude considered\n",
    "    xeffs: Effective inspiral spin samples\n",
    "    xps: Effective precessing spin values\n",
    "    ndraws: Number of draws from the component spin priors used in numerically building interpolant\n",
    "\n",
    "    RETURNS\n",
    "    p_chi_p: Array of priors on xp, conditioned on given effective inspiral spins and mass ratios\n",
    "    \"\"\"\n",
    "\n",
    "    # Convert to arrays for safety\n",
    "    xeffs = np.reshape(xeffs,-1)\n",
    "    xps = np.reshape(xps,-1)\n",
    "    \n",
    "    # Compute marginal prior on xeff, conditional prior on xp, and multiply to get joint prior!\n",
    "    p_chi_eff = chi_effective_prior_from_isotropic_spins(q,aMax,xeffs)\n",
    "    p_chi_p_given_chi_eff = np.array([chi_p_prior_given_chi_eff_q(q,aMax,xeffs[i],xps[i],ndraws,bw_method) for i in range(len(xeffs))])\n",
    "    joint_p_chi_p_chi_eff = p_chi_eff*p_chi_p_given_chi_eff\n",
    "\n",
    "    return joint_p_chi_p_chi_eff\n",
    "\n",
    "def chi_p_prior_given_chi_eff_q(q,aMax,xeff,xp,ndraws=10000,bw_method='scott'):\n",
    "\n",
    "    \"\"\"\n",
    "    Function to calculate the conditional prior p(xp|xeff,q) on a single {xp,xeff,q} posterior sample.\n",
    "    Called by `joint_prior_from_isotropic_spins`.\n",
    "\n",
    "    INPUTS\n",
    "    q: Single posterior mass ratio sample\n",
    "    aMax: Maximimum spin magnitude considered\n",
    "    xeff: Single effective inspiral spin sample\n",
    "    xp: Single effective precessing spin value\n",
    "    ndraws: Number of draws from the component spin priors used in numerically building interpolant\n",
    "\n",
    "    RETURNS\n",
    "    p_chi_p: Prior on xp, conditioned on given effective inspiral spin and mass ratio\n",
    "    \"\"\"\n",
    "\n",
    "    # Draw random spin magnitudes.\n",
    "    # Note that, given a fixed chi_eff, a1 can be no larger than (1+q)*chi_eff,\n",
    "    # and a2 can be no larger than (1+q)*chi_eff/q\n",
    "    a1 = np.random.random(ndraws)*aMax\n",
    "    a2 = np.random.random(ndraws)*aMax\n",
    "\n",
    "    # Draw random tilts for spin 2\n",
    "    cost2 = 2.*np.random.random(ndraws)-1.\n",
    "\n",
    "    # Finally, given our conditional value for chi_eff, we can solve for cost1\n",
    "    # Note, though, that we still must require that the implied value of cost1 be *physical*\n",
    "    cost1 = (xeff*(1.+q) - q*a2*cost2)/a1  \n",
    "\n",
    "    # While any cost1 values remain unphysical, redraw a1, a2, and cost2, and recompute\n",
    "    # Repeat as necessary\n",
    "    while np.any(cost1<-1) or np.any(cost1>1):   \n",
    "        to_replace = np.where((cost1<-1) | (cost1>1))[0]   \n",
    "        a1[to_replace] = np.random.random(to_replace.size)*aMax\n",
    "        a2[to_replace] = np.random.random(to_replace.size)*aMax\n",
    "        cost2[to_replace] = 2.*np.random.random(to_replace.size)-1.    \n",
    "        cost1 = (xeff*(1.+q) - q*a2*cost2)/a1   \n",
    "            \n",
    "    # Compute precessing spins and corresponding weights, build KDE\n",
    "    # See `Joint-ChiEff-ChiP-Prior.ipynb` for a discussion of these weights\n",
    "    Xp_draws = chi_p_from_components(a1,a2,cost1,cost2,q)\n",
    "    jacobian_weights = (1.+q)/a1\n",
    "    prior_kde = gaussian_kde(Xp_draws,weights=jacobian_weights,bw_method=bw_method)\n",
    "\n",
    "    # Compute maximum chi_p\n",
    "    if (1.+q)*np.abs(xeff)/q<aMax:\n",
    "        max_Xp = aMax\n",
    "    else:\n",
    "        max_Xp = np.sqrt(aMax**2 - ((1.+q)*np.abs(xeff)-q)**2.)\n",
    "\n",
    "    # Set up a grid slightly inside (0,max chi_p) and evaluate KDE\n",
    "    reference_grid = np.linspace(0.02*max_Xp,0.98*max_Xp,50)\n",
    "    reference_vals = prior_kde(reference_grid)\n",
    "\n",
    "    # Manually prepend/append zeros at the boundaries\n",
    "    reference_grid = np.concatenate([[0],reference_grid,[max_Xp]])\n",
    "    reference_vals = np.concatenate([[0],reference_vals,[0]])\n",
    "    norm_constant = np.trapz(reference_vals,reference_grid)\n",
    "\n",
    "    # Interpolate!\n",
    "    p_chi_p = np.interp(xp,reference_grid,reference_vals/norm_constant)\n",
    "    return p_chi_p\n",
    "\n",
    "def chi_p_from_components(a1,a2,cost1,cost2,q):\n",
    "\n",
    "    \"\"\"\n",
    "    Helper function to define effective precessing spin parameter from component spins\n",
    "\n",
    "    INPUTS\n",
    "    a1: Primary dimensionless spin magnitude\n",
    "    a2: Secondary's spin magnitude\n",
    "    cost1: Cosine of the primary's spin-orbit tilt angle\n",
    "    cost2: Cosine of the secondary's spin-orbit tilt\n",
    "    q: Mass ratio\n",
    "\n",
    "    RETRUNS\n",
    "    chi_p: Corresponding precessing spin value\n",
    "    \"\"\"\n",
    "\n",
    "    sint1 = np.sqrt(1.-cost1**2)\n",
    "    sint2 = np.sqrt(1.-cost2**2)\n",
    "    \n",
    "    return np.maximum(a1*sint1,((3.+4.*q)/(4.+3.*q))*q*a2*sint2)"
   ]
  },
  {
   "cell_type": "code",
   "execution_count": 3,
   "metadata": {},
   "outputs": [],
   "source": [
    "import numpy as np\n",
    "import scipy\n",
    "\n",
    "def Joint_prob_Xeff_Xp(Xeff,Xp,q = 1,amax = 1,flag_debug = False):\n",
    "    r'''\n",
    "    Returns Joint prior on Effective Spin parameter Xeff and Precessing Spin Parameter Xp,\n",
    "    given Mass ratio q, Max allowed spin magnitude amax, $p(Xeff,Xp|q,amax)$.\n",
    "    Assumes $q>0$ and $0<amax<=1.$ $q>1$ inputs are interepreted as $1/q$.\n",
    "    if flag_debug is True, then the function shows some integration for debugging and returns 4 integrals separately.\n",
    "    '''\n",
    "    assert (amax <= 1)*(amax > 0),\"Invalid amax. 0<amax<=1 is accepted.\"\n",
    "    \n",
    "    def S(z):\n",
    "        r'''\n",
    "        Spence's function or dilogarithm Li_2(z).\n",
    "        '''\n",
    "        return scipy.special.spence(1-z)\n",
    "\n",
    "    def g(x0,a0,b0):\n",
    "        r'''\n",
    "        Primitive function of log(x-bi)/(x-a-i) (x>=0).\n",
    "        '''                    \n",
    "        ans = np.zeros(len(a0))+0j\n",
    "        case_special = (b0 == 0)*(x0 == 0)\n",
    "        case_b_less_1 = (np.abs(b0) < 1)*(np.logical_not(case_special))\n",
    "        case_b_1_a_less_0 = (b0 == 1)*(a0 <= 0)\n",
    "        case_otherwise = np.logical_not(case_b_less_1|case_b_1_a_less_0|case_special)\n",
    "        \n",
    "        for j, case in enumerate([case_special,case_b_less_1,case_b_1_a_less_0,case_otherwise]):\n",
    "            if np.any(case):\n",
    "                x = x0[case]\n",
    "                a = a0[case]\n",
    "                b = b0[case]\n",
    "                if j == 0:\n",
    "                    ans[case] = 0\n",
    "                if j == 1:\n",
    "                    ans[case] = np.log(x-b*1j)*np.log((a-x+1j)/(a+1j-b*1j))+S((x-b*1j)/(a+1j-b*1j))\n",
    "                if j == 2:\n",
    "                    ans[case] = 1/2*(np.log(x-a-1j))**2+S(-a/(x-a-1j))\n",
    "                if j == 3:\n",
    "                    ans[case] = np.log(a+1j-b*1j)*np.log(a-x+1j)-S((a-x+1j)/(a+1j-b*1j))\n",
    "        return ans\n",
    "        \n",
    "        \n",
    "\n",
    "    def G(x0,a0,b0):\n",
    "        r'''\n",
    "        \\int_0^x((x^2+b^2))/(1+(x-a)^2) dx.\n",
    "        '''\n",
    "        \n",
    "        case_positive_x = (x0 > 0)\n",
    "        case_negative_x = (x0 < 0)\n",
    "        ans = np.zeros(len(x0))\n",
    "        \n",
    "        for j,case in enumerate([case_positive_x,case_negative_x]):\n",
    "            if np.any(case):\n",
    "                x = x0[case]\n",
    "                a = a0[case]\n",
    "                b = b0[case]\n",
    "                if j == 0:\n",
    "                    if flag_debug:\n",
    "                        print(\"Given Values to H(x,a,b):\")\n",
    "                        print('x',x)\n",
    "                        print('a',a)\n",
    "                        print('b',b)\n",
    "                        print('')\n",
    "                    ans[case] = np.imag(g(x,a,b)+g(x,a,-b))-np.imag(g(np.zeros(len(x)),a,b)+g(np.zeros(len(x)),a,-b))\n",
    "                if j == 1:\n",
    "                    if flag_debug:\n",
    "                        print('Avoid x<0 by transposing.')\n",
    "                    ans[case] = -G(-x,-a,b)\n",
    "        return ans\n",
    "\n",
    "    def F(_x,_a,_b,_c,_d):\n",
    "        r'''\n",
    "        \\int_0^x b*log((x^2+c^2)/d^2)/(b^2+(x-a)^2) dx.\n",
    "        '''\n",
    "        if np.any(_d == 0):\n",
    "            print('Something is wrong!')\n",
    "            raise ValueError\n",
    "            \n",
    "        x0 = np.atleast_1d(_x)\n",
    "        a0 = np.atleast_1d(_a)\n",
    "        b0 = np.atleast_1d(_b)\n",
    "        c0 = np.atleast_1d(_c)\n",
    "        d0 = np.atleast_1d(_d)\n",
    "        max_len = len(b0)\n",
    "        arr = np.zeros((5,max_len))\n",
    "        for j, X in enumerate([x0,a0,b0,c0,d0]):\n",
    "            if X.shape[0] == 1:\n",
    "                arr[j,:] = X[0]\n",
    "            else:\n",
    "                arr[j,:] = X[:]\n",
    "        x0,a0,b0,c0,d0 = arr\n",
    "        \n",
    "        if flag_debug:\n",
    "            print(x0,a0,b0,c0,d0)\n",
    "        ans = np.zeros(len(b0))\n",
    "        case = (b0 != 0)\n",
    "        x = x0[case]\n",
    "        a = a0[case]\n",
    "        b = b0[case]\n",
    "        c = c0[case]\n",
    "        d = d0[case]\n",
    "        ans[case] = G(x/b,a/b,c/b) + np.log(b*b/d/d)*(np.arctan(a/b)+np.arctan((x-a)/b))\n",
    "        return ans\n",
    "\n",
    "\n",
    "    def Joint_prob_Xeff_Xp_1(_Xeff,_Xp,_q,flag_debug):\n",
    "        r'''\n",
    "        Returns Joint prior on Effective Spin parameter Xeff and Precessing Spin Parameter Xp, given Mass ratio q.\n",
    "        Max allowed spin magnitude amax is assumed to be amax=1.\n",
    "        '''\n",
    "        Xp = np.atleast_1d(_Xp)\n",
    "        Xeff = np.atleast_1d(_Xeff)\n",
    "        q = np.atleast_1d(_q)\n",
    "        assert np.min(q) > 0\n",
    "        q[q>1] = 1/q[q>1]\n",
    "    \n",
    "        zeta = (1+q)*Xeff\n",
    "        nu = (4+3*q)/(3+4*q)\n",
    "    \n",
    "        max_len = np.max([Xp.shape[0],Xeff.shape[0],q.shape[0]])\n",
    "        arr = np.zeros((5,max_len))\n",
    "        for j, X in enumerate([Xeff,Xp,q,zeta,nu]):\n",
    "            if X.shape[0] == 1:\n",
    "                arr[j,:] = X[0]\n",
    "            else:\n",
    "                arr[j,:] = X[:]\n",
    "            \n",
    "        Xeff0,Xp0,q0,zeta0,nu0 = arr\n",
    "        threshold = q0/nu0\n",
    "    \n",
    "        case_OoB = np.logical_or((Xp0 <= 0),(Xp0 >= 1))\n",
    "        case_lsr_than_threshold = np.logical_and(np.logical_not(case_OoB),(Xp0 < threshold))\n",
    "        case_gtr_than_threshold = np.logical_and(np.logical_not(case_OoB),(Xp0 >= threshold))\n",
    "    \n",
    "        #Joint PDF is a sum of 4 integrals\n",
    "        int_1 = np.zeros(max_len)\n",
    "        int_2 = np.zeros(max_len)\n",
    "        int_3 = np.zeros(max_len)\n",
    "        int_4 = np.zeros(max_len)\n",
    "    \n",
    "        for j,case in enumerate([case_OoB,\n",
    "                                case_lsr_than_threshold,\n",
    "                                case_gtr_than_threshold]):\n",
    "            if np.any(case):\n",
    "                Xeff = Xeff0[case]\n",
    "                Xp = Xp0[case]\n",
    "                q = q0[case]\n",
    "                zeta = zeta0[case]\n",
    "                nu = nu0[case]\n",
    "            \n",
    "                if j != 0:\n",
    "                #Only int_2 have non-zero value for j = 2\n",
    "                    max_2 = np.minimum(zeta+np.sqrt(1-Xp*Xp),q)\n",
    "                    min_2 = np.maximum(zeta-np.sqrt(1-Xp*Xp),-q)\n",
    "                    zero = (min_2 > max_2)\n",
    "                    if np.any(zero):\n",
    "                        max_2[zero] = min_2[zero]\n",
    "                    if flag_debug:\n",
    "                        print('Calculating 2nd integral for j = {}'.format(j))\n",
    "                        print('x_max:',max_2)\n",
    "                        print('x_min:',min_2)\n",
    "                    int_2[case] = -(1+q)/8/q * (F(max_2,zeta,Xp,0,q)-F(min_2,zeta,Xp,0,q))\n",
    "                \n",
    "                #int_1,int_3,int_4 have none-zero value only if j = 1\n",
    "                    if j == 1:\n",
    "                    \n",
    "                        #int_1\n",
    "                        max_1 = np.minimum(zeta+np.sqrt(1-Xp*Xp),np.sqrt(q*q-nu*nu*Xp*Xp))\n",
    "                        min_1 = np.maximum(zeta-np.sqrt(1-Xp*Xp),-np.sqrt(q*q-nu*nu*Xp*Xp))\n",
    "                        zero = (min_1 > max_1)                            \n",
    "                        if np.any(zero):\n",
    "                            max_1[zero] = min_1[zero]\n",
    "                        if flag_debug:\n",
    "                            print('Calculating 1st integral')\n",
    "                            print('x_max:',max_1)\n",
    "                            print('x_min:',min_1)\n",
    "                        int_1[case] = (1+q)/8/q * (F(max_1,zeta,Xp,nu*Xp,q)-F(min_1,zeta,Xp,nu*Xp,q))\n",
    "                    \n",
    "                        #int_3\n",
    "                        max_3 = np.minimum(zeta+np.sqrt(q*q-nu*nu*Xp*Xp),np.sqrt(1-Xp*Xp))\n",
    "                        min_3 = np.maximum(zeta-np.sqrt(q*q-nu*nu*Xp*Xp),-np.sqrt(1-Xp*Xp))\n",
    "                        zero = (min_3 > max_3)\n",
    "                        if np.any(zero):\n",
    "                            max_3[zero] = min_3[zero]\n",
    "                        if flag_debug:\n",
    "                            print('Calculating 3rd integral')\n",
    "                            print('x_max:',max_3)\n",
    "                            print('x_min:',min_3)\n",
    "                        int_3[case] = (1+q)*nu/8/q * (F(max_3,zeta,nu*Xp,Xp,1)-F(min_3,zeta,nu*Xp,Xp,1))\n",
    "                    \n",
    "                        #int_4\n",
    "                        max_4 = np.minimum(zeta+np.sqrt(q*q-nu*nu*Xp*Xp),q/q)\n",
    "                        min_4 = np.maximum(zeta-np.sqrt(q*q-nu*nu*Xp*Xp),-q/q)\n",
    "                        zero = (min_4 > max_4)\n",
    "                        if np.any(zero):\n",
    "                            max_4[zero] = min_4[zero]\n",
    "                        if flag_debug:\n",
    "                            print('Calculating 4th integral')\n",
    "                            print('x_max:',max_4)\n",
    "                            print('x_min:',min_4)\n",
    "                        int_4[case] = -(1+q)*nu/8/q * (F(max_4,zeta,nu*Xp,0,1)-F(min_4,zeta,nu*Xp,0,1))\n",
    "                    \n",
    "        if flag_debug:\n",
    "            return int_1,int_2,int_3,int_4\n",
    "        elif max_len == 1:\n",
    "            return (int_1+int_2+int_3+int_4)[0]\n",
    "        return int_1+int_2+int_3+int_4\n",
    "    \n",
    "    if flag_debug:\n",
    "        int_1,int_2,int_3,int_4 = Joint_prob_Xeff_Xp_1(Xeff/amax,Xp/amax,q,flag_debug)\n",
    "        return int_1/amax/amax,int_2/amax/amax,int_3/amax/amax,int_4/amax/amax\n",
    "    return Joint_prob_Xeff_Xp_1(Xeff/amax,Xp/amax,q,flag_debug)/amax/amax\n"
   ]
  },
  {
   "cell_type": "markdown",
   "metadata": {
    "Collapsed": "false"
   },
   "source": [
    "# Prelim"
   ]
  },
  {
   "cell_type": "markdown",
   "metadata": {
    "Collapsed": "false"
   },
   "source": [
    "First, define some helper functions to compute chi_effective and chi_p"
   ]
  },
  {
   "cell_type": "code",
   "execution_count": 4,
   "metadata": {
    "Collapsed": "false"
   },
   "outputs": [],
   "source": [
    "def Calculate_Xp(m1, m2, a1, a2, costilt1, costilt2):\n",
    "    \n",
    "    q = m2/m1\n",
    "    sintilt1 = np.sqrt(1-(costilt1)**2)\n",
    "    sintilt2 = np.sqrt(1-(costilt2)**2)\n",
    "    \n",
    "    return np.maximum(a1*sintilt1, (3.+4.*q)/(4.+3.*q)*q*a2*sintilt2)\n",
    "\n",
    "def Calculate_Xeff(m1, m2, a1, a2, costilt1, costilt2):\n",
    "    Xeff = (m1*a1*costilt1 + m2*a2*costilt2)/(m1+m2)\n",
    "    return Xeff\n",
    "\n",
    "def eta(m1,m2):\n",
    "    return m1*m2/(m1+m2)/(m1+m2)\n",
    "\n",
    "def Mc(m1,m2):\n",
    "    return np.power(eta(m1,m2),3./5.)*(m1+m2)"
   ]
  },
  {
   "cell_type": "markdown",
   "metadata": {
    "Collapsed": "false"
   },
   "source": [
    "We'll additionally be reweighting the default LALInference mass and redshift priors with more astrophysically-motivated priors. The LALInference prior is uniform in *luminosity* distance, and uniform in *detector-frame* component masses. This corresponds to:\n",
    "\n",
    "\\begin{equation}\n",
    "p_\\mathrm{lal}(m_1,m_2,z) \\propto (1+z)^2 D_L^2(z) \\left( D_c(z) + \\frac{c(1+z)}{H(z)}\\right),\n",
    "\\end{equation}\n",
    "\n",
    "where $D_L(z)$ and $D_c(z)$ are the luminosity and comoving distance at redshift $z$, respectively, and $H(z)$ is the Hubble parameter at $z$.\n",
    "\n",
    "We'll reweight to a prior that assumes the (source-frame) comoving merger rate density evolves as $(1+z)^{2.7}$, with a flat prior over *source frame* masses:\n",
    "\n",
    "\\begin{equation}\n",
    "p_\\mathrm{astro}(m_1,m_2,z) \\propto \\frac{1}{1+z} \\left(1+z\\right)^{2.7} \\frac{dV_c}{dz}\n",
    "\\end{equation}"
   ]
  },
  {
   "cell_type": "code",
   "execution_count": 5,
   "metadata": {
    "Collapsed": "false"
   },
   "outputs": [],
   "source": [
    "# Define constants\n",
    "# Note that we assume a cosmology identical to that in pesummary\n",
    "c = 299792458 # m/s\n",
    "H_0 = 67900.0 # m/s/MPc\n",
    "Omega_M = 0.3065 # unitless\n",
    "Omega_Lambda = 1.0-Omega_M\n",
    "year = 365.25*24.*3600\n",
    "\n",
    "# Construct custom cosmology matching pesummary\n",
    "cosmo = Planck15.clone(name='cosmo',Om0=Omega_M,H0=H_0/1e3,Tcmb0=0.)\n",
    "\n",
    "def Hz(z):\n",
    "    return H_0*np.sqrt(Omega_M*(1.+z)**3.+Omega_Lambda)\n",
    "\n",
    "def calculate_pLAL(z, dl):\n",
    "    dc = dl/(1.+z) # comoving distance \n",
    "    pLAL = np.power(1.+z,2.)*np.power(dl,2.)*(dc+c*(1.+z)/Hz(z))\n",
    "    return pLAL\n",
    "\n",
    "def calculate_pASTRO(z, dl):\n",
    "    dc = dl/(1.+z) # comoving distance \n",
    "    dVc_dz = 4*np.pi*c*(dc**2.)/Hz(z) # comoving volume \n",
    "    pASTRO = np.power(1.+z,1.7)*dVc_dz\n",
    "    return pASTRO"
   ]
  },
  {
   "cell_type": "markdown",
   "metadata": {
    "Collapsed": "false"
   },
   "source": [
    "For later use, we'll want to build an interpolant between luminosity distance and redshift:"
   ]
  },
  {
   "cell_type": "code",
   "execution_count": 6,
   "metadata": {
    "Collapsed": "false"
   },
   "outputs": [
    {
     "data": {
      "image/png": "[encoded data removed]",
      "text/plain": [
       "<Figure size 640x480 with 1 Axes>"
      ]
     },
     "metadata": {},
     "output_type": "display_data"
    }
   ],
   "source": [
    "zs_ref = np.linspace(0.,3.,1000)\n",
    "DL_ref = cosmo.luminosity_distance(zs_ref).to(u.Mpc).value\n",
    "\n",
    "fig,ax = plt.subplots()\n",
    "ax.plot(zs_ref,DL_ref/1e3)\n",
    "ax.set_xlabel('Redshift')\n",
    "ax.set_ylabel('Luminosity Distance (Gpc)')\n",
    "plt.show()"
   ]
  },
  {
   "cell_type": "markdown",
   "metadata": {
    "Collapsed": "false"
   },
   "source": [
    "Finally, load dictionary we'll use to list events and cut on FAR\n",
    "\n",
    "<span style=\"color: red; \">ここが変わっています</span>"
   ]
  },
  {
   "cell_type": "code",
   "execution_count": 7,
   "metadata": {
    "Collapsed": "false"
   },
   "outputs": [],
   "source": [
    "#eventDict = h5py.File('/home/thomas.callister/CBC/o3b-astro-dist/events.hdf','r')\n",
    "eventDict = h5py.File('../other_files/events.hdf','r')\n",
    "\n",
    "#eventKeyFile = \"/home/thomas.callister/CBC/o3b-astro-dist/bin/fetch_o3b_pe_for_rp/event_to_run.json\"\n",
    "eventKeyFile = \"../other_files/event_to_run.json\"\n",
    "with open(eventKeyFile,'r') as jf:\n",
    "    eventKeyDict = json.load(jf)\n",
    "\n",
    "target_nSamps = 4000000"
   ]
  },
  {
   "cell_type": "markdown",
   "metadata": {
    "Collapsed": "false"
   },
   "source": [
    "# O1/O2"
   ]
  },
  {
   "cell_type": "code",
   "execution_count": 8,
   "metadata": {
    "Collapsed": "false"
   },
   "outputs": [
    {
     "name": "stdout",
     "output_type": "stream",
     "text": [
      "['GW150914' 'GW151012' 'GW151226' 'GW170104' 'GW170608' 'GW170729'\n",
      " 'GW170809' 'GW170814' 'GW170818' 'GW170823']\n"
     ]
    }
   ],
   "source": [
    "O1O2_events = np.array([])\n",
    "\n",
    "for key in eventDict['O1']:\n",
    "    O1O2_events = np.append(O1O2_events,str(key))\n",
    "    \n",
    "for key in eventDict['O2']:\n",
    "    if key!='GW170817':\n",
    "        O1O2_events = np.append(O1O2_events,str(key))\n",
    "    \n",
    "print(O1O2_events)"
   ]
  },
  {
   "cell_type": "markdown",
   "metadata": {},
   "source": [
    "<span style=\"color: red; \">ここが変わっています</span>"
   ]
  },
  {
   "cell_type": "code",
   "execution_count": 9,
   "metadata": {
    "Collapsed": "false"
   },
   "outputs": [
    {
     "name": "stdout",
     "output_type": "stream",
     "text": [
      "GW150914\n"
     ]
    },
    {
     "data": {
      "application/vnd.jupyter.widget-view+json": {
       "model_id": "36c1e90d946b46d0a4be65cd361ba5c0",
       "version_major": 2,
       "version_minor": 0
      },
      "text/plain": [
       "  0%|          | 0/8350 [00:00<?, ?it/s]"
      ]
     },
     "metadata": {},
     "output_type": "display_data"
    },
    {
     "name": "stdout",
     "output_type": "stream",
     "text": [
      "GW151012\n"
     ]
    },
    {
     "data": {
      "application/vnd.jupyter.widget-view+json": {
       "model_id": "0b0628f0e30d4030bc4e6e209ffca4b1",
       "version_major": 2,
       "version_minor": 0
      },
      "text/plain": [
       "  0%|          | 0/16096 [00:00<?, ?it/s]"
      ]
     },
     "metadata": {},
     "output_type": "display_data"
    },
    {
     "name": "stdout",
     "output_type": "stream",
     "text": [
      "GW151226\n"
     ]
    },
    {
     "data": {
      "application/vnd.jupyter.widget-view+json": {
       "model_id": "1ac6f722adfb42c4bdf5de07cd58f3cf",
       "version_major": 2,
       "version_minor": 0
      },
      "text/plain": [
       "  0%|          | 0/52252 [00:00<?, ?it/s]"
      ]
     },
     "metadata": {},
     "output_type": "display_data"
    },
    {
     "name": "stdout",
     "output_type": "stream",
     "text": [
      "GW170104\n"
     ]
    },
    {
     "data": {
      "application/vnd.jupyter.widget-view+json": {
       "model_id": "41c2cbe555b3457a8a976e7a0367b38b",
       "version_major": 2,
       "version_minor": 0
      },
      "text/plain": [
       "  0%|          | 0/24972 [00:00<?, ?it/s]"
      ]
     },
     "metadata": {},
     "output_type": "display_data"
    },
    {
     "name": "stdout",
     "output_type": "stream",
     "text": [
      "GW170608\n"
     ]
    },
    {
     "data": {
      "application/vnd.jupyter.widget-view+json": {
       "model_id": "6919081d74f740469d661a96482056fe",
       "version_major": 2,
       "version_minor": 0
      },
      "text/plain": [
       "  0%|          | 0/6448 [00:00<?, ?it/s]"
      ]
     },
     "metadata": {},
     "output_type": "display_data"
    },
    {
     "name": "stdout",
     "output_type": "stream",
     "text": [
      "GW170729\n"
     ]
    },
    {
     "data": {
      "application/vnd.jupyter.widget-view+json": {
       "model_id": "fa2a6e9b69424d299f33b0a0637e377e",
       "version_major": 2,
       "version_minor": 0
      },
      "text/plain": [
       "  0%|          | 0/5112 [00:00<?, ?it/s]"
      ]
     },
     "metadata": {},
     "output_type": "display_data"
    },
    {
     "name": "stdout",
     "output_type": "stream",
     "text": [
      "GW170809\n"
     ]
    },
    {
     "data": {
      "application/vnd.jupyter.widget-view+json": {
       "model_id": "e9f81befb351443090b4b7e37f5bf1e3",
       "version_major": 2,
       "version_minor": 0
      },
      "text/plain": [
       "  0%|          | 0/14802 [00:00<?, ?it/s]"
      ]
     },
     "metadata": {},
     "output_type": "display_data"
    },
    {
     "name": "stdout",
     "output_type": "stream",
     "text": [
      "GW170814\n"
     ]
    },
    {
     "data": {
      "application/vnd.jupyter.widget-view+json": {
       "model_id": "fb35ca8c7e554fff8ebda2f6128055c1",
       "version_major": 2,
       "version_minor": 0
      },
      "text/plain": [
       "  0%|          | 0/40000 [00:00<?, ?it/s]"
      ]
     },
     "metadata": {},
     "output_type": "display_data"
    },
    {
     "name": "stdout",
     "output_type": "stream",
     "text": [
      "GW170818\n"
     ]
    },
    {
     "data": {
      "application/vnd.jupyter.widget-view+json": {
       "model_id": "04b60dabf5724f2b91f23d13e8c4c00a",
       "version_major": 2,
       "version_minor": 0
      },
      "text/plain": [
       "  0%|          | 0/5862 [00:00<?, ?it/s]"
      ]
     },
     "metadata": {},
     "output_type": "display_data"
    },
    {
     "name": "stdout",
     "output_type": "stream",
     "text": [
      "GW170823\n"
     ]
    },
    {
     "data": {
      "application/vnd.jupyter.widget-view+json": {
       "model_id": "dac5628c0dc24cdd9377858923c5c3e7",
       "version_major": 2,
       "version_minor": 0
      },
      "text/plain": [
       "  0%|          | 0/4278 [00:00<?, ?it/s]"
      ]
     },
     "metadata": {},
     "output_type": "display_data"
    }
   ],
   "source": [
    "for key  in O1O2_events:\n",
    "    \n",
    "    print(key)\n",
    "    \n",
    "    #if os.path.exists(\"preprocessed-single-events-11-29/{0}.npy\".format(key)):\n",
    "    if os.path.exists(output_path+\"{0}.npy\".format(key)):\n",
    "        print(\"skip\")\n",
    "        continue\n",
    "    \n",
    "    # load samples\n",
    "    \n",
    "    #BBH_post = h5py.File('/home/shanika.galaudage/O3/population/GWTC-1_sample_release/{0}_GWTC-1.hdf5'.format(key), 'r')['Overall_posterior']\n",
    "    BBH_post = h5py.File('../other_files/GWTC-1_Sample_Release/{0}_GWTC-1.hdf5'.format(key), 'r')['Overall_posterior']\n",
    "    m1_DF = BBH_post['m1_detector_frame_Msun']\n",
    "    m2_DF = BBH_post['m2_detector_frame_Msun']\n",
    "    a1 = BBH_post['spin1']\n",
    "    a2 = BBH_post['spin2']\n",
    "    cost1 = BBH_post['costilt1']\n",
    "    cost2 = BBH_post['costilt2']\n",
    "    \n",
    "    Xeff = Calculate_Xeff(m1_DF,m2_DF,a1,a2,cost1,cost2)\n",
    "    Xp = Calculate_Xp(m1_DF,m2_DF,a1,a2,cost1,cost2)\n",
    "    DL = BBH_post['luminosity_distance_Mpc']\n",
    "    \n",
    "    # Downselect to a reasonable number of samples\n",
    "    nSamps = min(target_nSamps,Xeff.size)\n",
    "    sampleDraws = np.random.choice(np.arange(Xeff.size),size=nSamps,replace=False)\n",
    "    m1_DF = m1_DF[sampleDraws]\n",
    "    m2_DF = m2_DF[sampleDraws]\n",
    "    Xeff = Xeff[sampleDraws]\n",
    "    Xp = Xp[sampleDraws]\n",
    "    DL = DL[sampleDraws]\n",
    "    a1 = a1[sampleDraws]\n",
    "    a2 = a2[sampleDraws]\n",
    "    cost1 = cost1[sampleDraws]\n",
    "    cost2 = cost2[sampleDraws]\n",
    "      \n",
    "    # Mass ratio\n",
    "    q = m2_DF/m1_DF\n",
    "\n",
    "    # Evaluate chi_eff/chi_p priors\n",
    "    Xeff_priors = np.ones(q.size)\n",
    "    joint_priors = np.ones(q.size)\n",
    "    for i in tqdm(range(q.size)):\n",
    "        #joint_priors[i] = joint_prior_from_isotropic_spins(q[i],1.,Xeff[i],Xp[i])\n",
    "        joint_priors[i] = joint_prior_from_isotropic_spins(q[i],1.,Xeff[i],Xp[i])[0]\n",
    "        #Xeff_priors[i] = chi_effective_prior_from_isotropic_spins(q[i],1.,Xeff[i])\n",
    "        Xeff_priors[i] = chi_effective_prior_from_isotropic_spins(q[i],1.,Xeff[i])[0]\n",
    "    joint_priors_a = Joint_prob_Xeff_Xp(Xeff,Xp,q = q,amax = 1,flag_debug = False)\n",
    "    \n",
    "    # Redshift and mass priors\n",
    "    # Note that DL is the observable, and so our mapping to z is model dependent\n",
    "    z = np.interp(DL,DL_ref,zs_ref)\n",
    "    Dc = DL/(1.+z)\n",
    "    pAstro = calculate_pASTRO(z,DL)\n",
    "    pAstro[pAstro<0] = 0 # if pASTRO < 0, make pASTRO = 0\n",
    "    p_LAL = calculate_pLAL(z, DL)\n",
    "\n",
    "    weights = pAstro/p_LAL\n",
    "    labels = ['K','A']\n",
    "    for i,j in enumerate([joint_priors,joint_priors_a]):\n",
    "        preprocDict = {'Xeff':Xeff,\\\n",
    "                       'Xp':Xp,\\\n",
    "                       'joint_priors':j,\\\n",
    "                       'Xeff_priors':Xeff_priors,\\\n",
    "                       'weights':weights,\\\n",
    "                       'm1':m1_DF/(1.+z),\\\n",
    "                       'm2':m2_DF/(1.+z),\\\n",
    "                       'a1':a1,\\\n",
    "                       'a2':a2,\\\n",
    "                       'cost1':cost1,\\\n",
    "                       'cost2':cost2,\\\n",
    "                       'z':z\n",
    "                       }\n",
    "        #np.save('preprocessed-single-events-11-29/{0}.npy'.format(key),preprocDict)\n",
    "        np.save(output_path+'{0}_{1}.npy'.format(key,labels[i]),preprocDict)"
   ]
  },
  {
   "cell_type": "markdown",
   "metadata": {
    "Collapsed": "false"
   },
   "source": [
    "# O3\n",
    "\n",
    "<span style=\"color: red; \">eventDict['O3'][key]['FAR']['minfar'].valueは現在のpythonでは読み込めないので、書式変更</span>"
   ]
  },
  {
   "cell_type": "code",
   "execution_count": 10,
   "metadata": {
    "Collapsed": "false"
   },
   "outputs": [
    {
     "name": "stdout",
     "output_type": "stream",
     "text": [
      "60\n"
     ]
    }
   ],
   "source": [
    "O3_events = np.array([])\n",
    "\n",
    "# GW190425 is a BNS\n",
    "# GW190426, GW200105, and GW200115 are NSBH candidates\n",
    "# GW190917 is a mass gap event\n",
    "to_exclude = ['S190425z','S190426c','S190917u','S200105ae','S200115j']\n",
    "for key in eventDict['O3']:\n",
    "    if key not in to_exclude:\n",
    "        \n",
    "        if key==\"%s\":\n",
    "            continue\n",
    "        \n",
    "        #print(key)\n",
    "        #FAR_in_years = float(eventDict['O3'][key]['FAR']['minfar'].value)*year\n",
    "        FAR_in_years = float(eventDict['O3'][key]['FAR']['minfar'][()])*year\n",
    "        if FAR_in_years<=1.:\n",
    "            O3_events = np.append(O3_events,str(key))\n",
    "    \n",
    "print(len(O3_events))\n",
    "#print(O3_events)"
   ]
  },
  {
   "cell_type": "code",
   "execution_count": 11,
   "metadata": {
    "Collapsed": "false",
    "scrolled": true
   },
   "outputs": [
    {
     "name": "stdout",
     "output_type": "stream",
     "text": [
      "S190408an\n",
      "../other_files/GWTC-3_Sample_Release/S190408an.h5\n",
      "PrecessingSpinIMRHM\n",
      "37366\n"
     ]
    },
    {
     "data": {
      "application/vnd.jupyter.widget-view+json": {
       "model_id": "b45b9ed36e564d9c97a8bd8736a580ec",
       "version_major": 2,
       "version_minor": 0
      },
      "text/plain": [
       "  0%|          | 0/37366 [00:00<?, ?it/s]"
      ]
     },
     "metadata": {},
     "output_type": "display_data"
    },
    {
     "name": "stdout",
     "output_type": "stream",
     "text": [
      "where_joint_prior_is_NaN: (array([], dtype=int64),)\n",
      "where_joint_prior_is_ZERO: (array([], dtype=int64),)\n",
      "S190412m\n",
      "../other_files/GWTC-3_Sample_Release/S190412m.h5\n",
      "PrecessingSpinIMRHM\n",
      "23984\n"
     ]
    },
    {
     "data": {
      "application/vnd.jupyter.widget-view+json": {
       "model_id": "3f348e14b38a4a349360e4f418e443de",
       "version_major": 2,
       "version_minor": 0
      },
      "text/plain": [
       "  0%|          | 0/23984 [00:00<?, ?it/s]"
      ]
     },
     "metadata": {},
     "output_type": "display_data"
    },
    {
     "name": "stdout",
     "output_type": "stream",
     "text": [
      "where_joint_prior_is_NaN: (array([], dtype=int64),)\n",
      "where_joint_prior_is_ZERO: (array([], dtype=int64),)\n",
      "S190413ac\n",
      "../other_files/GWTC-3_Sample_Release/S190413ac.h5\n",
      "PrecessingSpinIMRHM\n",
      "38056\n"
     ]
    },
    {
     "data": {
      "application/vnd.jupyter.widget-view+json": {
       "model_id": "53a1c5b0afcb4cdf8e19a0359f29b038",
       "version_major": 2,
       "version_minor": 0
      },
      "text/plain": [
       "  0%|          | 0/38056 [00:00<?, ?it/s]"
      ]
     },
     "metadata": {},
     "output_type": "display_data"
    },
    {
     "name": "stdout",
     "output_type": "stream",
     "text": [
      "where_joint_prior_is_NaN: (array([], dtype=int64),)\n",
      "where_joint_prior_is_ZERO: (array([], dtype=int64),)\n",
      "S190413i\n",
      "../other_files/GWTC-3_Sample_Release/S190413i.h5\n",
      "PrecessingSpinIMRHM\n",
      "58046\n"
     ]
    },
    {
     "data": {
      "application/vnd.jupyter.widget-view+json": {
       "model_id": "f19550428fbf42e3bf64197c7f1ff1ef",
       "version_major": 2,
       "version_minor": 0
      },
      "text/plain": [
       "  0%|          | 0/58046 [00:00<?, ?it/s]"
      ]
     },
     "metadata": {},
     "output_type": "display_data"
    },
    {
     "name": "stdout",
     "output_type": "stream",
     "text": [
      "where_joint_prior_is_NaN: (array([], dtype=int64),)\n",
      "where_joint_prior_is_ZERO: (array([], dtype=int64),)\n",
      "S190421ar\n",
      "../other_files/GWTC-3_Sample_Release/S190421ar.h5\n",
      "PrecessingSpinIMRHM\n",
      "76712\n"
     ]
    },
    {
     "data": {
      "application/vnd.jupyter.widget-view+json": {
       "model_id": "f87ab99362724b83bdbdf207ac19f98c",
       "version_major": 2,
       "version_minor": 0
      },
      "text/plain": [
       "  0%|          | 0/76712 [00:00<?, ?it/s]"
      ]
     },
     "metadata": {},
     "output_type": "display_data"
    },
    {
     "name": "stdout",
     "output_type": "stream",
     "text": [
      "where_joint_prior_is_NaN: (array([], dtype=int64),)\n",
      "where_joint_prior_is_ZERO: (array([], dtype=int64),)\n",
      "S190503bf\n",
      "../other_files/GWTC-3_Sample_Release/S190503bf.h5\n",
      "PrecessingSpinIMRHM\n",
      "37669\n"
     ]
    },
    {
     "data": {
      "application/vnd.jupyter.widget-view+json": {
       "model_id": "80823667bfa948eaaf71c909788f0b76",
       "version_major": 2,
       "version_minor": 0
      },
      "text/plain": [
       "  0%|          | 0/37669 [00:00<?, ?it/s]"
      ]
     },
     "metadata": {},
     "output_type": "display_data"
    },
    {
     "name": "stdout",
     "output_type": "stream",
     "text": [
      "where_joint_prior_is_NaN: (array([], dtype=int64),)\n",
      "where_joint_prior_is_ZERO: (array([], dtype=int64),)\n",
      "S190512at\n",
      "../other_files/GWTC-3_Sample_Release/S190512at.h5\n",
      "PrecessingSpinIMRHM\n",
      "37247\n"
     ]
    },
    {
     "data": {
      "application/vnd.jupyter.widget-view+json": {
       "model_id": "45935dd2e60b43249e5c0a98995a0dc9",
       "version_major": 2,
       "version_minor": 0
      },
      "text/plain": [
       "  0%|          | 0/37247 [00:00<?, ?it/s]"
      ]
     },
     "metadata": {},
     "output_type": "display_data"
    },
    {
     "name": "stdout",
     "output_type": "stream",
     "text": [
      "where_joint_prior_is_NaN: (array([], dtype=int64),)\n",
      "where_joint_prior_is_ZERO: (array([], dtype=int64),)\n",
      "S190513bm\n",
      "../other_files/GWTC-3_Sample_Release/S190513bm.h5\n",
      "PrecessingSpinIMRHM\n",
      "39072\n"
     ]
    },
    {
     "data": {
      "application/vnd.jupyter.widget-view+json": {
       "model_id": "55659d5f8eb4455297223d5ddd0eb12b",
       "version_major": 2,
       "version_minor": 0
      },
      "text/plain": [
       "  0%|          | 0/39072 [00:00<?, ?it/s]"
      ]
     },
     "metadata": {},
     "output_type": "display_data"
    },
    {
     "name": "stdout",
     "output_type": "stream",
     "text": [
      "where_joint_prior_is_NaN: (array([], dtype=int64),)\n",
      "where_joint_prior_is_ZERO: (array([], dtype=int64),)\n",
      "S190517h\n",
      "../other_files/GWTC-3_Sample_Release/S190517h.h5\n",
      "PrecessingSpinIMRHM\n",
      "36932\n"
     ]
    },
    {
     "data": {
      "application/vnd.jupyter.widget-view+json": {
       "model_id": "e99113e3bd9244068290936f850c3bed",
       "version_major": 2,
       "version_minor": 0
      },
      "text/plain": [
       "  0%|          | 0/36932 [00:00<?, ?it/s]"
      ]
     },
     "metadata": {},
     "output_type": "display_data"
    },
    {
     "name": "stdout",
     "output_type": "stream",
     "text": [
      "where_joint_prior_is_NaN: (array([], dtype=int64),)\n",
      "where_joint_prior_is_ZERO: (array([], dtype=int64),)\n",
      "S190519bj\n",
      "../other_files/GWTC-3_Sample_Release/S190519bj.h5\n",
      "PrecessingSpinIMRHM\n",
      "39976\n"
     ]
    },
    {
     "data": {
      "application/vnd.jupyter.widget-view+json": {
       "model_id": "64986a3ecdb64e2fb35ce840e118b649",
       "version_major": 2,
       "version_minor": 0
      },
      "text/plain": [
       "  0%|          | 0/39976 [00:00<?, ?it/s]"
      ]
     },
     "metadata": {},
     "output_type": "display_data"
    },
    {
     "name": "stdout",
     "output_type": "stream",
     "text": [
      "where_joint_prior_is_NaN: (array([], dtype=int64),)\n",
      "where_joint_prior_is_ZERO: (array([], dtype=int64),)\n",
      "S190521g\n",
      "../other_files/GWTC-3_Sample_Release/S190521g.h5\n",
      "PrecessingSpinIMRHM\n",
      "59466\n"
     ]
    },
    {
     "data": {
      "application/vnd.jupyter.widget-view+json": {
       "model_id": "3134a01b4cf546269cdaf8dda352e848",
       "version_major": 2,
       "version_minor": 0
      },
      "text/plain": [
       "  0%|          | 0/59466 [00:00<?, ?it/s]"
      ]
     },
     "metadata": {},
     "output_type": "display_data"
    },
    {
     "name": "stdout",
     "output_type": "stream",
     "text": [
      "where_joint_prior_is_NaN: (array([], dtype=int64),)\n",
      "where_joint_prior_is_ZERO: (array([], dtype=int64),)\n",
      "S190521r\n",
      "../other_files/GWTC-3_Sample_Release/S190521r.h5\n",
      "PrecessingSpinIMRHM\n",
      "39836\n"
     ]
    },
    {
     "data": {
      "application/vnd.jupyter.widget-view+json": {
       "model_id": "ea281b556d4d4abfbe6d6a9d4c326a9c",
       "version_major": 2,
       "version_minor": 0
      },
      "text/plain": [
       "  0%|          | 0/39836 [00:00<?, ?it/s]"
      ]
     },
     "metadata": {},
     "output_type": "display_data"
    },
    {
     "name": "stdout",
     "output_type": "stream",
     "text": [
      "where_joint_prior_is_NaN: (array([], dtype=int64),)\n",
      "where_joint_prior_is_ZERO: (array([], dtype=int64),)\n",
      "S190527w\n",
      "../other_files/GWTC-3_Sample_Release/S190527w.h5\n",
      "PrecessingSpinIMRHM\n",
      "38129\n"
     ]
    },
    {
     "data": {
      "application/vnd.jupyter.widget-view+json": {
       "model_id": "9acedeccf78e491bafacb3c16468758d",
       "version_major": 2,
       "version_minor": 0
      },
      "text/plain": [
       "  0%|          | 0/38129 [00:00<?, ?it/s]"
      ]
     },
     "metadata": {},
     "output_type": "display_data"
    },
    {
     "name": "stdout",
     "output_type": "stream",
     "text": [
      "where_joint_prior_is_NaN: (array([], dtype=int64),)\n",
      "where_joint_prior_is_ZERO: (array([], dtype=int64),)\n",
      "S190602aq\n",
      "../other_files/GWTC-3_Sample_Release/S190602aq.h5\n",
      "PrecessingSpinIMRHM\n",
      "39996\n"
     ]
    },
    {
     "data": {
      "application/vnd.jupyter.widget-view+json": {
       "model_id": "a34e389cc9184562bdadb598b1f9fdd8",
       "version_major": 2,
       "version_minor": 0
      },
      "text/plain": [
       "  0%|          | 0/39996 [00:00<?, ?it/s]"
      ]
     },
     "metadata": {},
     "output_type": "display_data"
    },
    {
     "name": "stdout",
     "output_type": "stream",
     "text": [
      "where_joint_prior_is_NaN: (array([], dtype=int64),)\n",
      "where_joint_prior_is_ZERO: (array([], dtype=int64),)\n",
      "S190620e\n",
      "../other_files/GWTC-3_Sample_Release/S190620e.h5\n",
      "PrecessingSpinIMRHM\n",
      "39290\n"
     ]
    },
    {
     "data": {
      "application/vnd.jupyter.widget-view+json": {
       "model_id": "89afba6c6d824afdbb4cdd4694c296ca",
       "version_major": 2,
       "version_minor": 0
      },
      "text/plain": [
       "  0%|          | 0/39290 [00:00<?, ?it/s]"
      ]
     },
     "metadata": {},
     "output_type": "display_data"
    },
    {
     "name": "stdout",
     "output_type": "stream",
     "text": [
      "where_joint_prior_is_NaN: (array([], dtype=int64),)\n",
      "where_joint_prior_is_ZERO: (array([], dtype=int64),)\n",
      "S190630ag\n",
      "../other_files/GWTC-3_Sample_Release/S190630ag.h5\n",
      "PrecessingSpinIMRHM\n",
      "38720\n"
     ]
    },
    {
     "data": {
      "application/vnd.jupyter.widget-view+json": {
       "model_id": "20b4c9765bb9476cb7996953e870bd9a",
       "version_major": 2,
       "version_minor": 0
      },
      "text/plain": [
       "  0%|          | 0/38720 [00:00<?, ?it/s]"
      ]
     },
     "metadata": {},
     "output_type": "display_data"
    },
    {
     "name": "stdout",
     "output_type": "stream",
     "text": [
      "where_joint_prior_is_NaN: (array([], dtype=int64),)\n",
      "where_joint_prior_is_ZERO: (array([], dtype=int64),)\n",
      "S190701ah\n",
      "../other_files/GWTC-3_Sample_Release/S190701ah.h5\n",
      "PrecessingSpinIMRHM\n",
      "39996\n"
     ]
    },
    {
     "data": {
      "application/vnd.jupyter.widget-view+json": {
       "model_id": "9ac102e7f7ce4d81abff599af43aa24a",
       "version_major": 2,
       "version_minor": 0
      },
      "text/plain": [
       "  0%|          | 0/39996 [00:00<?, ?it/s]"
      ]
     },
     "metadata": {},
     "output_type": "display_data"
    },
    {
     "name": "stdout",
     "output_type": "stream",
     "text": [
      "where_joint_prior_is_NaN: (array([], dtype=int64),)\n",
      "where_joint_prior_is_ZERO: (array([], dtype=int64),)\n",
      "S190706ai\n",
      "../other_files/GWTC-3_Sample_Release/S190706ai.h5\n",
      "PrecessingSpinIMRHM\n",
      "36176\n"
     ]
    },
    {
     "data": {
      "application/vnd.jupyter.widget-view+json": {
       "model_id": "579e419131ca452c956e0f28ae724d3c",
       "version_major": 2,
       "version_minor": 0
      },
      "text/plain": [
       "  0%|          | 0/36176 [00:00<?, ?it/s]"
      ]
     },
     "metadata": {},
     "output_type": "display_data"
    },
    {
     "name": "stdout",
     "output_type": "stream",
     "text": [
      "where_joint_prior_is_NaN: (array([], dtype=int64),)\n",
      "where_joint_prior_is_ZERO: (array([], dtype=int64),)\n",
      "S190707q\n",
      "../other_files/GWTC-3_Sample_Release/S190707q.h5\n",
      "PrecessingSpinIMRHM\n",
      "32634\n"
     ]
    },
    {
     "data": {
      "application/vnd.jupyter.widget-view+json": {
       "model_id": "9e03e2bab59b4fd4bba86eceebfb78d9",
       "version_major": 2,
       "version_minor": 0
      },
      "text/plain": [
       "  0%|          | 0/32634 [00:00<?, ?it/s]"
      ]
     },
     "metadata": {},
     "output_type": "display_data"
    },
    {
     "name": "stdout",
     "output_type": "stream",
     "text": [
      "where_joint_prior_is_NaN: (array([], dtype=int64),)\n",
      "where_joint_prior_is_ZERO: (array([], dtype=int64),)\n",
      "S190708ap\n",
      "../other_files/GWTC-3_Sample_Release/S190708ap.h5\n",
      "PrecessingSpinIMRHM\n",
      "37981\n"
     ]
    },
    {
     "data": {
      "application/vnd.jupyter.widget-view+json": {
       "model_id": "2d0b1052dda449d39fcade6a7ac32293",
       "version_major": 2,
       "version_minor": 0
      },
      "text/plain": [
       "  0%|          | 0/37981 [00:00<?, ?it/s]"
      ]
     },
     "metadata": {},
     "output_type": "display_data"
    },
    {
     "name": "stdout",
     "output_type": "stream",
     "text": [
      "where_joint_prior_is_NaN: (array([], dtype=int64),)\n",
      "where_joint_prior_is_ZERO: (array([], dtype=int64),)\n",
      "S190719an\n",
      "../other_files/GWTC-3_Sample_Release/S190719an.h5\n",
      "PrecessingSpinIMRHM\n",
      "38698\n"
     ]
    },
    {
     "data": {
      "application/vnd.jupyter.widget-view+json": {
       "model_id": "368c6865d39046fcae79dbdf41e77455",
       "version_major": 2,
       "version_minor": 0
      },
      "text/plain": [
       "  0%|          | 0/38698 [00:00<?, ?it/s]"
      ]
     },
     "metadata": {},
     "output_type": "display_data"
    },
    {
     "name": "stdout",
     "output_type": "stream",
     "text": [
      "where_joint_prior_is_NaN: (array([], dtype=int64),)\n",
      "where_joint_prior_is_ZERO: (array([], dtype=int64),)\n",
      "S190720a\n",
      "../other_files/GWTC-3_Sample_Release/S190720a.h5\n",
      "PrecessingSpinIMRHM\n",
      "34005\n"
     ]
    },
    {
     "data": {
      "application/vnd.jupyter.widget-view+json": {
       "model_id": "58941ddf737049b4aef9582218fe4132",
       "version_major": 2,
       "version_minor": 0
      },
      "text/plain": [
       "  0%|          | 0/34005 [00:00<?, ?it/s]"
      ]
     },
     "metadata": {},
     "output_type": "display_data"
    },
    {
     "name": "stdout",
     "output_type": "stream",
     "text": [
      "where_joint_prior_is_NaN: (array([], dtype=int64),)\n",
      "where_joint_prior_is_ZERO: (array([], dtype=int64),)\n",
      "S190725t\n",
      "../other_files/GWTC-3_Sample_Release/S190725t.h5\n",
      "PrecessingSpinIMRHM\n",
      "39522\n"
     ]
    },
    {
     "data": {
      "application/vnd.jupyter.widget-view+json": {
       "model_id": "319fc3e525ec40b5b1bc0c0988f777a1",
       "version_major": 2,
       "version_minor": 0
      },
      "text/plain": [
       "  0%|          | 0/39522 [00:00<?, ?it/s]"
      ]
     },
     "metadata": {},
     "output_type": "display_data"
    },
    {
     "name": "stdout",
     "output_type": "stream",
     "text": [
      "where_joint_prior_is_NaN: (array([], dtype=int64),)\n",
      "where_joint_prior_is_ZERO: (array([], dtype=int64),)\n",
      "S190727h\n",
      "../other_files/GWTC-3_Sample_Release/S190727h.h5\n",
      "PrecessingSpinIMRHM\n",
      "35709\n"
     ]
    },
    {
     "data": {
      "application/vnd.jupyter.widget-view+json": {
       "model_id": "2ab4c91430be4076a14349479e6d58ec",
       "version_major": 2,
       "version_minor": 0
      },
      "text/plain": [
       "  0%|          | 0/35709 [00:00<?, ?it/s]"
      ]
     },
     "metadata": {},
     "output_type": "display_data"
    },
    {
     "name": "stdout",
     "output_type": "stream",
     "text": [
      "where_joint_prior_is_NaN: (array([], dtype=int64),)\n",
      "where_joint_prior_is_ZERO: (array([], dtype=int64),)\n",
      "S190728q\n",
      "../other_files/GWTC-3_Sample_Release/S190728q.h5\n",
      "PrecessingSpinIMRHM\n",
      "37230\n"
     ]
    },
    {
     "data": {
      "application/vnd.jupyter.widget-view+json": {
       "model_id": "b3285d20e3e74fb69702bd6ca5e9dc56",
       "version_major": 2,
       "version_minor": 0
      },
      "text/plain": [
       "  0%|          | 0/37230 [00:00<?, ?it/s]"
      ]
     },
     "metadata": {},
     "output_type": "display_data"
    },
    {
     "name": "stdout",
     "output_type": "stream",
     "text": [
      "where_joint_prior_is_NaN: (array([], dtype=int64),)\n",
      "where_joint_prior_is_ZERO: (array([], dtype=int64),)\n",
      "S190731aa\n",
      "../other_files/GWTC-3_Sample_Release/S190731aa.h5\n",
      "PrecessingSpinIMRHM\n",
      "38323\n"
     ]
    },
    {
     "data": {
      "application/vnd.jupyter.widget-view+json": {
       "model_id": "337a8e766a8a4421ae1bb6bba39b44e5",
       "version_major": 2,
       "version_minor": 0
      },
      "text/plain": [
       "  0%|          | 0/38323 [00:00<?, ?it/s]"
      ]
     },
     "metadata": {},
     "output_type": "display_data"
    },
    {
     "name": "stdout",
     "output_type": "stream",
     "text": [
      "where_joint_prior_is_NaN: (array([], dtype=int64),)\n",
      "where_joint_prior_is_ZERO: (array([], dtype=int64),)\n",
      "S190803e\n",
      "../other_files/GWTC-3_Sample_Release/S190803e.h5\n",
      "PrecessingSpinIMRHM\n",
      "38200\n"
     ]
    },
    {
     "data": {
      "application/vnd.jupyter.widget-view+json": {
       "model_id": "f7ee0b30f1ee4df8a9fc34915962f743",
       "version_major": 2,
       "version_minor": 0
      },
      "text/plain": [
       "  0%|          | 0/38200 [00:00<?, ?it/s]"
      ]
     },
     "metadata": {},
     "output_type": "display_data"
    },
    {
     "name": "stdout",
     "output_type": "stream",
     "text": [
      "where_joint_prior_is_NaN: (array([], dtype=int64),)\n",
      "where_joint_prior_is_ZERO: (array([], dtype=int64),)\n",
      "S190805bq\n",
      "../other_files/GWTC-3_Sample_Release/S190805bq.h5\n",
      "PrecessingSpinIMRHM\n",
      "75756\n"
     ]
    },
    {
     "data": {
      "application/vnd.jupyter.widget-view+json": {
       "model_id": "4bff344f5c9445c8a92742465fdd877d",
       "version_major": 2,
       "version_minor": 0
      },
      "text/plain": [
       "  0%|          | 0/75756 [00:00<?, ?it/s]"
      ]
     },
     "metadata": {},
     "output_type": "display_data"
    },
    {
     "name": "stdout",
     "output_type": "stream",
     "text": [
      "where_joint_prior_is_NaN: (array([], dtype=int64),)\n",
      "where_joint_prior_is_ZERO: (array([], dtype=int64),)\n",
      "S190814bv\n",
      "../other_files/GWTC-3_Sample_Release/S190814bv.h5\n",
      "PrecessingSpinIMRHM\n",
      "27736\n"
     ]
    },
    {
     "data": {
      "application/vnd.jupyter.widget-view+json": {
       "model_id": "635ddaec4d7a4a3c924a36ea2ec99150",
       "version_major": 2,
       "version_minor": 0
      },
      "text/plain": [
       "  0%|          | 0/27736 [00:00<?, ?it/s]"
      ]
     },
     "metadata": {},
     "output_type": "display_data"
    },
    {
     "name": "stdout",
     "output_type": "stream",
     "text": [
      "where_joint_prior_is_NaN: (array([], dtype=int64),)\n",
      "where_joint_prior_is_ZERO: (array([], dtype=int64),)\n",
      "S190828j\n",
      "../other_files/GWTC-3_Sample_Release/S190828j.h5\n",
      "PrecessingSpinIMRHM\n",
      "39692\n"
     ]
    },
    {
     "data": {
      "application/vnd.jupyter.widget-view+json": {
       "model_id": "db16bf80e66c4c73ba3bec5dd13e3952",
       "version_major": 2,
       "version_minor": 0
      },
      "text/plain": [
       "  0%|          | 0/39692 [00:00<?, ?it/s]"
      ]
     },
     "metadata": {},
     "output_type": "display_data"
    },
    {
     "name": "stdout",
     "output_type": "stream",
     "text": [
      "where_joint_prior_is_NaN: (array([], dtype=int64),)\n",
      "where_joint_prior_is_ZERO: (array([], dtype=int64),)\n",
      "S190828l\n",
      "../other_files/GWTC-3_Sample_Release/S190828l.h5\n",
      "PrecessingSpinIMRHM\n",
      "19991\n"
     ]
    },
    {
     "data": {
      "application/vnd.jupyter.widget-view+json": {
       "model_id": "16936d534139490db3d507769ec151aa",
       "version_major": 2,
       "version_minor": 0
      },
      "text/plain": [
       "  0%|          | 0/19991 [00:00<?, ?it/s]"
      ]
     },
     "metadata": {},
     "output_type": "display_data"
    },
    {
     "name": "stdout",
     "output_type": "stream",
     "text": [
      "where_joint_prior_is_NaN: (array([], dtype=int64),)\n",
      "where_joint_prior_is_ZERO: (array([], dtype=int64),)\n",
      "S190910s\n",
      "../other_files/GWTC-3_Sample_Release/S190910s.h5\n",
      "PrecessingSpinIMRHM\n",
      "37784\n"
     ]
    },
    {
     "data": {
      "application/vnd.jupyter.widget-view+json": {
       "model_id": "aeeaa31fe99e452ba606adae98550147",
       "version_major": 2,
       "version_minor": 0
      },
      "text/plain": [
       "  0%|          | 0/37784 [00:00<?, ?it/s]"
      ]
     },
     "metadata": {},
     "output_type": "display_data"
    },
    {
     "name": "stdout",
     "output_type": "stream",
     "text": [
      "where_joint_prior_is_NaN: (array([], dtype=int64),)\n",
      "where_joint_prior_is_ZERO: (array([], dtype=int64),)\n",
      "S190915ak\n",
      "../other_files/GWTC-3_Sample_Release/S190915ak.h5\n",
      "PrecessingSpinIMRHM\n",
      "37836\n"
     ]
    },
    {
     "data": {
      "application/vnd.jupyter.widget-view+json": {
       "model_id": "814db77034b64aecb08eab248caca884",
       "version_major": 2,
       "version_minor": 0
      },
      "text/plain": [
       "  0%|          | 0/37836 [00:00<?, ?it/s]"
      ]
     },
     "metadata": {},
     "output_type": "display_data"
    },
    {
     "name": "stdout",
     "output_type": "stream",
     "text": [
      "where_joint_prior_is_NaN: (array([], dtype=int64),)\n",
      "where_joint_prior_is_ZERO: (array([], dtype=int64),)\n",
      "S190924h\n",
      "../other_files/GWTC-3_Sample_Release/S190924h.h5\n",
      "PrecessingSpinIMRHM\n",
      "37300\n"
     ]
    },
    {
     "data": {
      "application/vnd.jupyter.widget-view+json": {
       "model_id": "e7deafd4aeb94db19171cc694c5f9303",
       "version_major": 2,
       "version_minor": 0
      },
      "text/plain": [
       "  0%|          | 0/37300 [00:00<?, ?it/s]"
      ]
     },
     "metadata": {},
     "output_type": "display_data"
    },
    {
     "name": "stdout",
     "output_type": "stream",
     "text": [
      "where_joint_prior_is_NaN: (array([], dtype=int64),)\n",
      "where_joint_prior_is_ZERO: (array([], dtype=int64),)\n",
      "S190925ad\n",
      "../other_files/GWTC-3_Sample_Release/S190925ad.h5\n",
      "PrecessingSpinIMRHM\n",
      "73900\n"
     ]
    },
    {
     "data": {
      "application/vnd.jupyter.widget-view+json": {
       "model_id": "bfb2c0c0ce7b4cb083c71270d42f4e84",
       "version_major": 2,
       "version_minor": 0
      },
      "text/plain": [
       "  0%|          | 0/73900 [00:00<?, ?it/s]"
      ]
     },
     "metadata": {},
     "output_type": "display_data"
    },
    {
     "name": "stdout",
     "output_type": "stream",
     "text": [
      "where_joint_prior_is_NaN: (array([], dtype=int64),)\n",
      "where_joint_prior_is_ZERO: (array([], dtype=int64),)\n",
      "S190929d\n",
      "../other_files/GWTC-3_Sample_Release/S190929d.h5\n",
      "PrecessingSpinIMRHM\n",
      "19998\n"
     ]
    },
    {
     "data": {
      "application/vnd.jupyter.widget-view+json": {
       "model_id": "b4292c7328984d24a4b382ca182f7b74",
       "version_major": 2,
       "version_minor": 0
      },
      "text/plain": [
       "  0%|          | 0/19998 [00:00<?, ?it/s]"
      ]
     },
     "metadata": {},
     "output_type": "display_data"
    },
    {
     "name": "stdout",
     "output_type": "stream",
     "text": [
      "where_joint_prior_is_NaN: (array([], dtype=int64),)\n",
      "where_joint_prior_is_ZERO: (array([], dtype=int64),)\n",
      "S190930s\n",
      "../other_files/GWTC-3_Sample_Release/S190930s.h5\n",
      "PrecessingSpinIMRHM\n",
      "37802\n"
     ]
    },
    {
     "data": {
      "application/vnd.jupyter.widget-view+json": {
       "model_id": "cbff09bdbd87420db842ec55949c77e1",
       "version_major": 2,
       "version_minor": 0
      },
      "text/plain": [
       "  0%|          | 0/37802 [00:00<?, ?it/s]"
      ]
     },
     "metadata": {},
     "output_type": "display_data"
    },
    {
     "name": "stdout",
     "output_type": "stream",
     "text": [
      "where_joint_prior_is_NaN: (array([], dtype=int64),)\n",
      "where_joint_prior_is_ZERO: (array([], dtype=int64),)\n",
      "S191103a\n",
      "../other_files/GWTC-3_Sample_Release/S191103a.h5\n",
      "C01:Mixed\n",
      "57156\n"
     ]
    },
    {
     "data": {
      "application/vnd.jupyter.widget-view+json": {
       "model_id": "2465a905e5fa4f74a4668d2c394fbe7c",
       "version_major": 2,
       "version_minor": 0
      },
      "text/plain": [
       "  0%|          | 0/57156 [00:00<?, ?it/s]"
      ]
     },
     "metadata": {},
     "output_type": "display_data"
    },
    {
     "name": "stdout",
     "output_type": "stream",
     "text": [
      "where_joint_prior_is_NaN: (array([], dtype=int64),)\n",
      "where_joint_prior_is_ZERO: (array([], dtype=int64),)\n",
      "S191105e\n",
      "../other_files/GWTC-3_Sample_Release/S191105e.h5\n",
      "C01:Mixed\n",
      "34458\n"
     ]
    },
    {
     "data": {
      "application/vnd.jupyter.widget-view+json": {
       "model_id": "d4df6e8a827b48ba97917758523f55f0",
       "version_major": 2,
       "version_minor": 0
      },
      "text/plain": [
       "  0%|          | 0/34458 [00:00<?, ?it/s]"
      ]
     },
     "metadata": {},
     "output_type": "display_data"
    },
    {
     "name": "stdout",
     "output_type": "stream",
     "text": [
      "where_joint_prior_is_NaN: (array([], dtype=int64),)\n",
      "where_joint_prior_is_ZERO: (array([], dtype=int64),)\n",
      "S191109d\n",
      "../other_files/GWTC-3_Sample_Release/S191109d.h5\n",
      "C01:Mixed\n",
      "85416\n"
     ]
    },
    {
     "data": {
      "application/vnd.jupyter.widget-view+json": {
       "model_id": "b7d5bb8377ea41c58339944ab636945f",
       "version_major": 2,
       "version_minor": 0
      },
      "text/plain": [
       "  0%|          | 0/85416 [00:00<?, ?it/s]"
      ]
     },
     "metadata": {},
     "output_type": "display_data"
    },
    {
     "name": "stdout",
     "output_type": "stream",
     "text": [
      "where_joint_prior_is_NaN: (array([], dtype=int64),)\n",
      "where_joint_prior_is_ZERO: (array([], dtype=int64),)\n",
      "S191127p\n",
      "../other_files/GWTC-3_Sample_Release/S191127p.h5\n",
      "C01:Mixed\n",
      "45432\n"
     ]
    },
    {
     "data": {
      "application/vnd.jupyter.widget-view+json": {
       "model_id": "f9b861b8868e43589545d38fbe479793",
       "version_major": 2,
       "version_minor": 0
      },
      "text/plain": [
       "  0%|          | 0/45432 [00:00<?, ?it/s]"
      ]
     },
     "metadata": {},
     "output_type": "display_data"
    },
    {
     "name": "stdout",
     "output_type": "stream",
     "text": [
      "where_joint_prior_is_NaN: (array([], dtype=int64),)\n",
      "where_joint_prior_is_ZERO: (array([], dtype=int64),)\n",
      "S191129u\n",
      "../other_files/GWTC-3_Sample_Release/S191129u.h5\n",
      "C01:Mixed\n",
      "41494\n"
     ]
    },
    {
     "data": {
      "application/vnd.jupyter.widget-view+json": {
       "model_id": "d801de9b4ea04e3da1655be127ca587c",
       "version_major": 2,
       "version_minor": 0
      },
      "text/plain": [
       "  0%|          | 0/41494 [00:00<?, ?it/s]"
      ]
     },
     "metadata": {},
     "output_type": "display_data"
    },
    {
     "name": "stdout",
     "output_type": "stream",
     "text": [
      "where_joint_prior_is_NaN: (array([], dtype=int64),)\n",
      "where_joint_prior_is_ZERO: (array([], dtype=int64),)\n",
      "S191204r\n",
      "../other_files/GWTC-3_Sample_Release/S191204r.h5\n",
      "C01:Mixed\n",
      "27704\n"
     ]
    },
    {
     "data": {
      "application/vnd.jupyter.widget-view+json": {
       "model_id": "af1824cf06d34f36971b11670846e1fb",
       "version_major": 2,
       "version_minor": 0
      },
      "text/plain": [
       "  0%|          | 0/27704 [00:00<?, ?it/s]"
      ]
     },
     "metadata": {},
     "output_type": "display_data"
    },
    {
     "name": "stdout",
     "output_type": "stream",
     "text": [
      "where_joint_prior_is_NaN: (array([], dtype=int64),)\n",
      "where_joint_prior_is_ZERO: (array([], dtype=int64),)\n",
      "S191215w\n",
      "../other_files/GWTC-3_Sample_Release/S191215w.h5\n",
      "C01:Mixed\n",
      "25436\n"
     ]
    },
    {
     "data": {
      "application/vnd.jupyter.widget-view+json": {
       "model_id": "f3a58eb13a18424082192bd18838c113",
       "version_major": 2,
       "version_minor": 0
      },
      "text/plain": [
       "  0%|          | 0/25436 [00:00<?, ?it/s]"
      ]
     },
     "metadata": {},
     "output_type": "display_data"
    },
    {
     "name": "stdout",
     "output_type": "stream",
     "text": [
      "where_joint_prior_is_NaN: (array([], dtype=int64),)\n",
      "where_joint_prior_is_ZERO: (array([], dtype=int64),)\n",
      "S191216ap\n",
      "../other_files/GWTC-3_Sample_Release/S191216ap.h5\n",
      "C01:Mixed\n",
      "17792\n"
     ]
    },
    {
     "data": {
      "application/vnd.jupyter.widget-view+json": {
       "model_id": "c60c8e7b223a4b2f937b345d7b61c75f",
       "version_major": 2,
       "version_minor": 0
      },
      "text/plain": [
       "  0%|          | 0/17792 [00:00<?, ?it/s]"
      ]
     },
     "metadata": {},
     "output_type": "display_data"
    },
    {
     "name": "stdout",
     "output_type": "stream",
     "text": [
      "where_joint_prior_is_NaN: (array([], dtype=int64),)\n",
      "where_joint_prior_is_ZERO: (array([], dtype=int64),)\n",
      "S191222n\n",
      "../other_files/GWTC-3_Sample_Release/S191222n.h5\n",
      "C01:Mixed\n",
      "43168\n"
     ]
    },
    {
     "data": {
      "application/vnd.jupyter.widget-view+json": {
       "model_id": "a95930155ac34e0b82fe08d078a62339",
       "version_major": 2,
       "version_minor": 0
      },
      "text/plain": [
       "  0%|          | 0/43168 [00:00<?, ?it/s]"
      ]
     },
     "metadata": {},
     "output_type": "display_data"
    },
    {
     "name": "stdout",
     "output_type": "stream",
     "text": [
      "where_joint_prior_is_NaN: (array([], dtype=int64),)\n",
      "where_joint_prior_is_ZERO: (array([], dtype=int64),)\n",
      "S191230an\n",
      "../other_files/GWTC-3_Sample_Release/S191230an.h5\n",
      "C01:Mixed\n",
      "37238\n"
     ]
    },
    {
     "data": {
      "application/vnd.jupyter.widget-view+json": {
       "model_id": "020a40e571a44ddf989fc85810b8b1da",
       "version_major": 2,
       "version_minor": 0
      },
      "text/plain": [
       "  0%|          | 0/37238 [00:00<?, ?it/s]"
      ]
     },
     "metadata": {},
     "output_type": "display_data"
    },
    {
     "name": "stdout",
     "output_type": "stream",
     "text": [
      "where_joint_prior_is_NaN: (array([], dtype=int64),)\n",
      "where_joint_prior_is_ZERO: (array([], dtype=int64),)\n",
      "S200112r\n",
      "../other_files/GWTC-3_Sample_Release/S200112r.h5\n",
      "C01:Mixed\n",
      "9898\n"
     ]
    },
    {
     "data": {
      "application/vnd.jupyter.widget-view+json": {
       "model_id": "2a5866b7eefe43f7b388e39306e7ce1e",
       "version_major": 2,
       "version_minor": 0
      },
      "text/plain": [
       "  0%|          | 0/9898 [00:00<?, ?it/s]"
      ]
     },
     "metadata": {},
     "output_type": "display_data"
    },
    {
     "name": "stdout",
     "output_type": "stream",
     "text": [
      "where_joint_prior_is_NaN: (array([], dtype=int64),)\n",
      "where_joint_prior_is_ZERO: (array([], dtype=int64),)\n",
      "S200128d\n",
      "../other_files/GWTC-3_Sample_Release/S200128d.h5\n",
      "C01:Mixed\n",
      "35134\n"
     ]
    },
    {
     "data": {
      "application/vnd.jupyter.widget-view+json": {
       "model_id": "94c73aa1718b41d68b7acc3d0c851b50",
       "version_major": 2,
       "version_minor": 0
      },
      "text/plain": [
       "  0%|          | 0/35134 [00:00<?, ?it/s]"
      ]
     },
     "metadata": {},
     "output_type": "display_data"
    },
    {
     "name": "stdout",
     "output_type": "stream",
     "text": [
      "where_joint_prior_is_NaN: (array([], dtype=int64),)\n",
      "where_joint_prior_is_ZERO: (array([], dtype=int64),)\n",
      "S200129m\n",
      "../other_files/GWTC-3_Sample_Release/S200129m.h5\n",
      "C01:Mixed\n",
      "3194\n"
     ]
    },
    {
     "data": {
      "application/vnd.jupyter.widget-view+json": {
       "model_id": "4881db8219ca45a3b93eb73040cde4d3",
       "version_major": 2,
       "version_minor": 0
      },
      "text/plain": [
       "  0%|          | 0/3194 [00:00<?, ?it/s]"
      ]
     },
     "metadata": {},
     "output_type": "display_data"
    },
    {
     "name": "stdout",
     "output_type": "stream",
     "text": [
      "where_joint_prior_is_NaN: (array([], dtype=int64),)\n",
      "where_joint_prior_is_ZERO: (array([], dtype=int64),)\n",
      "S200202ac\n",
      "../other_files/GWTC-3_Sample_Release/S200202ac.h5\n",
      "C01:Mixed\n",
      "56226\n"
     ]
    },
    {
     "data": {
      "application/vnd.jupyter.widget-view+json": {
       "model_id": "b61dffb41d6b4eb998e7b80cad518068",
       "version_major": 2,
       "version_minor": 0
      },
      "text/plain": [
       "  0%|          | 0/56226 [00:00<?, ?it/s]"
      ]
     },
     "metadata": {},
     "output_type": "display_data"
    },
    {
     "name": "stdout",
     "output_type": "stream",
     "text": [
      "where_joint_prior_is_NaN: (array([], dtype=int64),)\n",
      "where_joint_prior_is_ZERO: (array([], dtype=int64),)\n",
      "S200208q\n",
      "../other_files/GWTC-3_Sample_Release/S200208q.h5\n",
      "C01:Mixed\n",
      "48142\n"
     ]
    },
    {
     "data": {
      "application/vnd.jupyter.widget-view+json": {
       "model_id": "d544e71f1fdb46e880a087095a5a6a45",
       "version_major": 2,
       "version_minor": 0
      },
      "text/plain": [
       "  0%|          | 0/48142 [00:00<?, ?it/s]"
      ]
     },
     "metadata": {},
     "output_type": "display_data"
    },
    {
     "name": "stdout",
     "output_type": "stream",
     "text": [
      "where_joint_prior_is_NaN: (array([], dtype=int64),)\n",
      "where_joint_prior_is_ZERO: (array([], dtype=int64),)\n",
      "S200209ab\n",
      "../other_files/GWTC-3_Sample_Release/S200209ab.h5\n",
      "C01:Mixed\n",
      "48092\n"
     ]
    },
    {
     "data": {
      "application/vnd.jupyter.widget-view+json": {
       "model_id": "044f6a98111a4330b4cd5777f25285c1",
       "version_major": 2,
       "version_minor": 0
      },
      "text/plain": [
       "  0%|          | 0/48092 [00:00<?, ?it/s]"
      ]
     },
     "metadata": {},
     "output_type": "display_data"
    },
    {
     "name": "stdout",
     "output_type": "stream",
     "text": [
      "where_joint_prior_is_NaN: (array([], dtype=int64),)\n",
      "where_joint_prior_is_ZERO: (array([], dtype=int64),)\n",
      "S200216br\n",
      "../other_files/GWTC-3_Sample_Release/S200216br.h5\n",
      "C01:Mixed\n",
      "42716\n"
     ]
    },
    {
     "data": {
      "application/vnd.jupyter.widget-view+json": {
       "model_id": "d3c3d576ee5a424d970970797c24137d",
       "version_major": 2,
       "version_minor": 0
      },
      "text/plain": [
       "  0%|          | 0/42716 [00:00<?, ?it/s]"
      ]
     },
     "metadata": {},
     "output_type": "display_data"
    },
    {
     "name": "stdout",
     "output_type": "stream",
     "text": [
      "where_joint_prior_is_NaN: (array([], dtype=int64),)\n",
      "where_joint_prior_is_ZERO: (array([], dtype=int64),)\n",
      "S200219ac\n",
      "../other_files/GWTC-3_Sample_Release/S200219ac.h5\n",
      "C01:Mixed\n",
      "51584\n"
     ]
    },
    {
     "data": {
      "application/vnd.jupyter.widget-view+json": {
       "model_id": "7b3364f7722348e8a705920a038e3377",
       "version_major": 2,
       "version_minor": 0
      },
      "text/plain": [
       "  0%|          | 0/51584 [00:00<?, ?it/s]"
      ]
     },
     "metadata": {},
     "output_type": "display_data"
    },
    {
     "name": "stdout",
     "output_type": "stream",
     "text": [
      "where_joint_prior_is_NaN: (array([], dtype=int64),)\n",
      "where_joint_prior_is_ZERO: (array([], dtype=int64),)\n",
      "S200224ca\n",
      "../other_files/GWTC-3_Sample_Release/S200224ca.h5\n",
      "C01:Mixed\n",
      "27066\n"
     ]
    },
    {
     "data": {
      "application/vnd.jupyter.widget-view+json": {
       "model_id": "eaa54dc252b6439da684f25cdffbae5c",
       "version_major": 2,
       "version_minor": 0
      },
      "text/plain": [
       "  0%|          | 0/27066 [00:00<?, ?it/s]"
      ]
     },
     "metadata": {},
     "output_type": "display_data"
    },
    {
     "name": "stdout",
     "output_type": "stream",
     "text": [
      "where_joint_prior_is_NaN: (array([], dtype=int64),)\n",
      "where_joint_prior_is_ZERO: (array([], dtype=int64),)\n",
      "S200225q\n",
      "../other_files/GWTC-3_Sample_Release/S200225q.h5\n",
      "C01:Mixed\n",
      "38484\n"
     ]
    },
    {
     "data": {
      "application/vnd.jupyter.widget-view+json": {
       "model_id": "38d7d00945cb4a6596e533089784862c",
       "version_major": 2,
       "version_minor": 0
      },
      "text/plain": [
       "  0%|          | 0/38484 [00:00<?, ?it/s]"
      ]
     },
     "metadata": {},
     "output_type": "display_data"
    },
    {
     "name": "stdout",
     "output_type": "stream",
     "text": [
      "where_joint_prior_is_NaN: (array([], dtype=int64),)\n",
      "where_joint_prior_is_ZERO: (array([], dtype=int64),)\n",
      "S200302c\n",
      "../other_files/GWTC-3_Sample_Release/S200302c.h5\n",
      "C01:Mixed\n",
      "50872\n"
     ]
    },
    {
     "data": {
      "application/vnd.jupyter.widget-view+json": {
       "model_id": "449e0f2f1afc4fe5aea0f79d6b021047",
       "version_major": 2,
       "version_minor": 0
      },
      "text/plain": [
       "  0%|          | 0/50872 [00:00<?, ?it/s]"
      ]
     },
     "metadata": {},
     "output_type": "display_data"
    },
    {
     "name": "stdout",
     "output_type": "stream",
     "text": [
      "where_joint_prior_is_NaN: (array([], dtype=int64),)\n",
      "where_joint_prior_is_ZERO: (array([], dtype=int64),)\n",
      "S200311bg\n",
      "../other_files/GWTC-3_Sample_Release/S200311bg.h5\n",
      "C01:Mixed\n",
      "36982\n"
     ]
    },
    {
     "data": {
      "application/vnd.jupyter.widget-view+json": {
       "model_id": "92da4ff0ef084f0e9a7a47c277cdfb49",
       "version_major": 2,
       "version_minor": 0
      },
      "text/plain": [
       "  0%|          | 0/36982 [00:00<?, ?it/s]"
      ]
     },
     "metadata": {},
     "output_type": "display_data"
    },
    {
     "name": "stdout",
     "output_type": "stream",
     "text": [
      "where_joint_prior_is_NaN: (array([], dtype=int64),)\n",
      "where_joint_prior_is_ZERO: (array([], dtype=int64),)\n",
      "S200316bj\n",
      "../other_files/GWTC-3_Sample_Release/S200316bj.h5\n",
      "C01:Mixed\n",
      "268806\n"
     ]
    },
    {
     "data": {
      "application/vnd.jupyter.widget-view+json": {
       "model_id": "aa0315b921114e6fb2f54e83374c2c19",
       "version_major": 2,
       "version_minor": 0
      },
      "text/plain": [
       "  0%|          | 0/268806 [00:00<?, ?it/s]"
      ]
     },
     "metadata": {},
     "output_type": "display_data"
    },
    {
     "name": "stdout",
     "output_type": "stream",
     "text": [
      "where_joint_prior_is_NaN: (array([], dtype=int64),)\n",
      "where_joint_prior_is_ZERO: (array([], dtype=int64),)\n"
     ]
    }
   ],
   "source": [
    "for event in O3_events:\n",
    "    \n",
    "    #hfile = \"/home/richard.oshaughnessy/public_html/O3/o3b_snapshots/GWTC-3_2021-11-08_revised/snapshot/{0}.h5\".format(event)\n",
    "    hfile = \"../other_files/GWTC-3_Sample_Release/{0}.h5\".format(event)\n",
    "    if not os.path.isfile(hfile):\n",
    "        print(\"Cannot find file\",event)\n",
    "        continue\n",
    "        \n",
    "    #if os.path.exists(\"preprocessed-single-events-11-29/{0}.npy\".format(event)):\n",
    "    if os.path.exists(output_path+\"{0}.npy\".format(event)):\n",
    "        print(\"skip\")\n",
    "        continue\n",
    "        \n",
    "    f = h5py.File(hfile,'r')\n",
    "    print(event)\n",
    "    print(hfile)\n",
    "    \n",
    "    pe_key = eventKeyDict[event]\n",
    "    print(pe_key)\n",
    "    BBH_post_samples = f[pe_key]['posterior_samples']\n",
    "    \n",
    "    m1_SF = BBH_post_samples['mass_1_source']\n",
    "    m2_SF = BBH_post_samples['mass_2_source']\n",
    "    a1 = BBH_post_samples['a_1']\n",
    "    a2 = BBH_post_samples['a_2']\n",
    "    cost1 = BBH_post_samples['cos_tilt_1']\n",
    "    cost2 = BBH_post_samples['cos_tilt_2']\n",
    "    DL = BBH_post_samples['luminosity_distance']\n",
    "    z = BBH_post_samples['redshift']\n",
    "    \n",
    "    Xeff = Calculate_Xeff(m1_SF,m2_SF,a1,a2,cost1,cost2)\n",
    "    Xp = Calculate_Xp(m1_SF,m2_SF,a1,a2,cost1,cost2)\n",
    "            \n",
    "    # Downselect to a reasonable number of samples\n",
    "    #if event=='S190517h' or event=='S190519bj':\n",
    "    #    nSamps = min(8000,Xeff.size)\n",
    "    #else:\n",
    "    #    nSamps = min(target_nSamps,Xeff.size)\n",
    "    nSamps = min(target_nSamps,Xeff.size)\n",
    "    print(nSamps)\n",
    "        \n",
    "    sampleDraws = np.random.choice(np.arange(Xeff.size),size=nSamps,replace=False)\n",
    "    m1_SF = m1_SF[sampleDraws]\n",
    "    m2_SF = m2_SF[sampleDraws]\n",
    "    Xeff = Xeff[sampleDraws]\n",
    "    Xp = Xp[sampleDraws]\n",
    "    DL = DL[sampleDraws]\n",
    "    z = z[sampleDraws]\n",
    "    a1 = a1[sampleDraws]\n",
    "    a2 = a2[sampleDraws]\n",
    "    cost1 = cost1[sampleDraws]\n",
    "    cost2 = cost2[sampleDraws]\n",
    "    \n",
    "    # Mass ratio\n",
    "    q = m2_SF/m1_SF\n",
    "    \n",
    "    Xeff_priors = np.ones(q.size)\n",
    "    joint_priors = np.ones(q.size)\n",
    "    for i in tqdm(range(q.size)):\n",
    "        #joint_priors[i] = joint_prior_from_isotropic_spins(q[i],1.,Xeff[i],Xp[i])\n",
    "        joint_priors[i] = joint_prior_from_isotropic_spins(q[i],1.,Xeff[i],Xp[i])[0]\n",
    "        #Xeff_priors[i] = chi_effective_prior_from_isotropic_spins(q[i],1.,Xeff[i])\n",
    "        Xeff_priors[i] = chi_effective_prior_from_isotropic_spins(q[i],1.,Xeff[i])[0]\n",
    "    print('where_joint_prior_is_NaN:',np.where(np.isnan(joint_priors)))\n",
    "    print('where_joint_prior_is_ZERO:',np.where(joint_priors==0))\n",
    "    joint_priors_a = Joint_prob_Xeff_Xp(Xeff,Xp,q = q,amax = 1,flag_debug = False)\n",
    "\n",
    "    # Redshift and mass priors\n",
    "    Dc = DL/(1.+z)\n",
    "    pAstro = calculate_pASTRO(z,DL)\n",
    "    pAstro[pAstro<0] = 0 # if pASTRO < 0, make pASTRO = 0\n",
    "    p_LAL = calculate_pLAL(z, DL)\n",
    "\n",
    "    weights = pAstro/p_LAL    \n",
    "    labels = ['K','A']\n",
    "    for i,j in enumerate([joint_priors,joint_priors_a]):\n",
    "        preprocDict = {'Xeff':Xeff,\\\n",
    "                       'Xp':Xp,\\\n",
    "                       'joint_priors':j,\\\n",
    "                       'Xeff_priors':Xeff_priors,\\\n",
    "                       'weights':weights,\\\n",
    "                       'm1':m1_SF,\\\n",
    "                       'm2':m2_SF,\\\n",
    "                       'a1':a1,\\\n",
    "                       'a2':a2,\\\n",
    "                       'cost1':cost1,\\\n",
    "                       'cost2':cost2,\\\n",
    "                       'z':z\n",
    "                       }\n",
    "        #np.save('preprocessed-single-events-11-29/{0}.npy'.format(event),preprocDict)\n",
    "        np.save(output_path+'{0}_{1}.npy'.format(event,labels[i]),preprocDict)"
   ]
  },
  {
   "cell_type": "markdown",
   "metadata": {
    "Collapsed": "false"
   },
   "source": [
    "# Combine"
   ]
  },
  {
   "cell_type": "code",
   "execution_count": 12,
   "metadata": {},
   "outputs": [],
   "source": [
    "med_IFAR = np.array([])\n",
    "\n",
    "# Now similarly find events with FARs below 1/yr\n",
    "for key in eventDict['O1']:\n",
    "    #far = float(eventDict['O1'][key]['FAR']['minfar'].value)*year\n",
    "    far = float(eventDict['O1'][key]['FAR']['minfar'][()])*year\n",
    "    if far<1.:\n",
    "        med_IFAR = np.append(med_IFAR,key)\n",
    "\n",
    "# ...and for O2\n",
    "for key in eventDict['O2']:\n",
    "    #far = float(eventDict['O2'][key]['FAR']['minfar'].value)*year\n",
    "    far = float(eventDict['O2'][key]['FAR']['minfar'][()])*year\n",
    "    if far<1.:\n",
    "        med_IFAR = np.append(med_IFAR,key)\n",
    "\n",
    "# ...and for O3        \n",
    "for key in eventDict['O3']:\n",
    "    \n",
    "    # Ignore key that has glitched into the event list upstream\n",
    "    if key==\"%s\":\n",
    "        continue\n",
    "    \n",
    "    #far = float(eventDict['O3'][key]['FAR']['minfar'].value)*year\n",
    "    far = float(eventDict['O3'][key]['FAR']['minfar'][()])*year\n",
    "    if far<1.:\n",
    "        med_IFAR = np.append(med_IFAR,key)\n",
    "\n",
    "# Load data for events identified above, neglecting BNS and NSBH candidates and buggy 190531\n",
    "to_exclude_deliberately = [\"GW170817\",\"S190425z\",'S190426c','S190531n','S190917u','S200105ae','S200115j']\n",
    "for label in ['K','A']:\n",
    "    sampleDict = {}\n",
    "    for event in med_IFAR:\n",
    "        if event not in to_exclude_deliberately:\n",
    "            dataDict = np.load(output_path+\"{0}_{1}.npy\".format(event,label),allow_pickle=True)[()]\n",
    "            sampleDict[event] = dataDict\n",
    "\n",
    "#with open('sampleDict_FAR_1_in_1_yr_11-29.pickle','wb') as testfile:\n",
    "    with open('sampleDict_FAR_1_in_1_yr_rerun_{}.pickle'.format(label),'wb') as testfile:\n",
    "        pickle.dump(sampleDict,testfile,protocol=2)\n"
   ]
  },
  {
   "cell_type": "code",
   "execution_count": 13,
   "metadata": {},
   "outputs": [],
   "source": [
    "sampleDict_K = np.load('sampleDict_FAR_1_in_1_yr_rerun_K.pickle',allow_pickle=True)\n",
    "sampleDict_A = np.load('sampleDict_FAR_1_in_1_yr_rerun_A.pickle',allow_pickle=True)"
   ]
  },
  {
   "cell_type": "code",
   "execution_count": 14,
   "metadata": {},
   "outputs": [
    {
     "name": "stdout",
     "output_type": "stream",
     "text": [
      "(8350,) (8350,)\n",
      "(16096,) (16096,)\n",
      "(52252,) (52252,)\n",
      "(24972,) (24972,)\n",
      "(6448,) (6448,)\n",
      "(5112,) (5112,)\n",
      "(14802,) (14802,)\n",
      "(40000,) (40000,)\n",
      "(5862,) (5862,)\n",
      "(4278,) (4278,)\n",
      "(37366,) (37366,)\n",
      "(23984,) (23984,)\n",
      "(38056,) (38056,)\n",
      "(58046,) (58046,)\n",
      "(76712,) (76712,)\n",
      "(37669,) (37669,)\n",
      "(37247,) (37247,)\n",
      "(39072,) (39072,)\n",
      "(36932,) (36932,)\n",
      "(39976,) (39976,)\n",
      "(59466,) (59466,)\n",
      "(39836,) (39836,)\n",
      "(38129,) (38129,)\n",
      "(39996,) (39996,)\n",
      "(39290,) (39290,)\n",
      "(38720,) (38720,)\n",
      "(39996,) (39996,)\n",
      "(36176,) (36176,)\n",
      "(32634,) (32634,)\n",
      "(37981,) (37981,)\n",
      "(38698,) (38698,)\n",
      "(34005,) (34005,)\n",
      "(39522,) (39522,)\n",
      "(35709,) (35709,)\n",
      "(37230,) (37230,)\n",
      "(38323,) (38323,)\n",
      "(38200,) (38200,)\n",
      "(75756,) (75756,)\n",
      "(27736,) (27736,)\n",
      "(39692,) (39692,)\n",
      "(19991,) (19991,)\n",
      "(37784,) (37784,)\n",
      "(37836,) (37836,)\n",
      "(37300,) (37300,)\n",
      "(73900,) (73900,)\n",
      "(19998,) (19998,)\n",
      "(37802,) (37802,)\n",
      "(57156,) (57156,)\n",
      "(34458,) (34458,)\n",
      "(85416,) (85416,)\n",
      "(45432,) (45432,)\n",
      "(41494,) (41494,)\n",
      "(27704,) (27704,)\n",
      "(25436,) (25436,)\n",
      "(17792,) (17792,)\n",
      "(43168,) (43168,)\n",
      "(37238,) (37238,)\n",
      "(9898,) (9898,)\n",
      "(35134,) (35134,)\n",
      "(3194,) (3194,)\n",
      "(56226,) (56226,)\n",
      "(48142,) (48142,)\n",
      "(48092,) (48092,)\n",
      "(42716,) (42716,)\n",
      "(51584,) (51584,)\n",
      "(27066,) (27066,)\n",
      "(38484,) (38484,)\n",
      "(50872,) (50872,)\n",
      "(36982,) (36982,)\n",
      "(268806,) (268806,)\n"
     ]
    }
   ],
   "source": [
    "for key in np.sort(list(sampleDict_K.keys())):\n",
    "    print(sampleDict_K[key]['Xeff'].shape,sampleDict_A[key]['Xeff'].shape)"
   ]
  },
  {
   "cell_type": "code",
   "execution_count": 20,
   "metadata": {},
   "outputs": [
    {
     "data": {
      "text/latex": [
       "$\\displaystyle - \\left(A - Xp\\right)^{2} \\left(A + Xp\\right)^{2}$"
      ],
      "text/plain": [
       "-(A - Xp)**2*(A + Xp)**2"
      ]
     },
     "execution_count": 20,
     "metadata": {},
     "output_type": "execute_result"
    }
   ],
   "source": [
    "import sympy as sym\n",
    "x = sym.Symbol('x')\n",
    "O = sym.Symbol('Omega')\n",
    "q = sym.Symbol('q')\n",
    "a = sym.Symbol('a')\n",
    "t = sym.Symbol('t')\n",
    "Xe = sym.Symbol('Xe')\n",
    "Xp = sym.Symbol('Xp')\n",
    "\n",
    "#A = a*sym.sqrt(1-t*t)\n",
    "A = sym.Symbol('A')\n",
    "#B = O*sym.sqrt(x*x-((1+q)*Xe-a*t)**2/q/q)\n",
    "B = sym.Symbol('B')\n",
    "\n",
    "expr = (4*A*A*B*B-(Xp*Xp-A*A-B*B)**2)\n",
    "sym.factor(expr).subs(B,0)"
   ]
  },
  {
   "cell_type": "code",
   "execution_count": 22,
   "metadata": {},
   "outputs": [
    {
     "data": {
      "text/latex": [
       "$\\displaystyle \\frac{- \\frac{i \\log{\\left(- i A + x \\right)}}{2} + \\frac{i \\log{\\left(i A + x \\right)}}{2}}{A}$"
      ],
      "text/plain": [
       "(-I*log(-I*A + x)/2 + I*log(I*A + x)/2)/A"
      ]
     },
     "execution_count": 22,
     "metadata": {},
     "output_type": "execute_result"
    }
   ],
   "source": [
    "x = sym.Symbol('x')\n",
    "sym.integrate(1/(x*x+A*A),x)"
   ]
  },
  {
   "cell_type": "code",
   "execution_count": 31,
   "metadata": {},
   "outputs": [
    {
     "data": {
      "text/latex": [
       "$\\displaystyle - C^{2} D^{2} + 2 C^{2} D E x - C^{2} E^{2} x^{2} - C^{2} E^{2} - 2 D^{3} E + 2 D^{2} E^{2} x + D^{2} E^{2} - 2 D E^{3} x + E^{4} x^{2} + E^{4}$"
      ],
      "text/plain": [
       "-C**2*D**2 + 2*C**2*D*E*x - C**2*E**2*x**2 - C**2*E**2 - 2*D**3*E + 2*D**2*E**2*x + D**2*E**2 - 2*D*E**3*x + E**4*x**2 + E**4"
      ]
     },
     "execution_count": 31,
     "metadata": {},
     "output_type": "execute_result"
    }
   ],
   "source": [
    "D = sym.Symbol('D')\n",
    "w = sym.Symbol('w')\n",
    "C = sym.Symbol('C')\n",
    "E = sym.Symbol('E')\n",
    "sym.factor(sym.factor((w*w+1)*(D*D*2*w/(1+w*w)+E*E-C*C)).subs(w,x-D/E)*E*E)"
   ]
  },
  {
   "cell_type": "code",
   "execution_count": 37,
   "metadata": {},
   "outputs": [
    {
     "data": {
      "text/latex": [
       "$\\displaystyle 2 D^{3} E - 2 D^{2} E^{2} x - D^{2} E^{2} + D^{2} + 2 D E^{3} x - 2 D E x - E^{4} x^{2} - E^{4} + E^{2} x^{2} + E^{2}$"
      ],
      "text/plain": [
       "2*D**3*E - 2*D**2*E**2*x - D**2*E**2 + D**2 + 2*D*E**3*x - 2*D*E*x - E**4*x**2 - E**4 + E**2*x**2 + E**2"
      ]
     },
     "execution_count": 37,
     "metadata": {},
     "output_type": "execute_result"
    }
   ],
   "source": [
    "sym.factor(E*E*(sym.factor((1-E*E)*(w*w+1)-2*w*D*D).subs(w,x-D/E)))"
   ]
  },
  {
   "cell_type": "code",
   "execution_count": 38,
   "metadata": {},
   "outputs": [
    {
     "data": {
      "text/plain": [
       "'2 D^{3} E - 2 D^{2} E^{2} x - D^{2} E^{2} + D^{2} + 2 D E^{3} x - 2 D E x - E^{4} x^{2} - E^{4} + E^{2} x^{2} + E^{2}'"
      ]
     },
     "execution_count": 38,
     "metadata": {},
     "output_type": "execute_result"
    }
   ],
   "source": [
    "sym.latex(sym.factor(E*E*(sym.factor((1-E*E)*(w*w+1)-2*w*D*D).subs(w,x-D/E))))"
   ]
  },
  {
   "cell_type": "code",
   "execution_count": 39,
   "metadata": {},
   "outputs": [
    {
     "data": {
      "text/latex": [
       "$\\displaystyle \\begin{cases} \\tilde{\\infty} x & \\text{for}\\: D = 0 \\wedge E = 0 \\\\\\frac{\\log{\\left(\\tan{\\left(\\frac{x}{2} \\right)} \\right)}}{D^{2}} & \\text{for}\\: E = 0 \\\\- \\frac{2}{E^{2} \\tan{\\left(\\frac{x}{2} \\right)} + E^{2}} & \\text{for}\\: D = - E \\vee D = E \\\\- \\frac{2}{E^{2} \\tan{\\left(\\frac{x}{2} \\right)} - E^{2}} & \\text{for}\\: D = - i E \\vee D = i E \\\\\\frac{\\log{\\left(\\frac{D^{2}}{E^{2}} + \\tan{\\left(\\frac{x}{2} \\right)} - \\frac{\\sqrt{D^{4} - E^{4}}}{E^{2}} \\right)}}{\\sqrt{D^{4} - E^{4}}} - \\frac{\\log{\\left(\\frac{D^{2}}{E^{2}} + \\tan{\\left(\\frac{x}{2} \\right)} + \\frac{\\sqrt{D^{4} - E^{4}}}{E^{2}} \\right)}}{\\sqrt{D^{4} - E^{4}}} & \\text{otherwise} \\end{cases}$"
      ],
      "text/plain": [
       "Piecewise((zoo*x, Eq(D, 0) & Eq(E, 0)), (log(tan(x/2))/D**2, Eq(E, 0)), (-2/(E**2*tan(x/2) + E**2), Eq(D, E) | Eq(D, -E)), (-2/(E**2*tan(x/2) - E**2), Eq(D, I*E) | Eq(D, -I*E)), (log(D**2/E**2 + tan(x/2) - sqrt(D**4 - E**4)/E**2)/sqrt(D**4 - E**4) - log(D**2/E**2 + tan(x/2) + sqrt(D**4 - E**4)/E**2)/sqrt(D**4 - E**4), True))"
      ]
     },
     "execution_count": 39,
     "metadata": {},
     "output_type": "execute_result"
    }
   ],
   "source": [
    "sym.integrate(1/(E*E+D*D*sym.sin(x)),x)"
   ]
  },
  {
   "cell_type": "code",
   "execution_count": 45,
   "metadata": {},
   "outputs": [
    {
     "data": {
      "text/latex": [
       "$\\displaystyle \\frac{\\operatorname{atan}{\\left(\\frac{x}{A} \\right)}}{A}$"
      ],
      "text/plain": [
       "atan(x/A)/A"
      ]
     },
     "execution_count": 45,
     "metadata": {},
     "output_type": "execute_result"
    }
   ],
   "source": [
    "A = sym.Symbol('A',positive=True)\n",
    "sym.integrate(1/(x*x+A*A),x)"
   ]
  },
  {
   "cell_type": "code",
   "execution_count": null,
   "metadata": {},
   "outputs": [],
   "source": []
  }
 ],
 "metadata": {
  "kernelspec": {
   "display_name": "Python [conda env:Env_Pycbc_mini] *",
   "language": "python",
   "name": "conda-env-Env_Pycbc_mini-py"
  },
  "language_info": {
   "codemirror_mode": {
    "name": "ipython",
    "version": 3
   },
   "file_extension": ".py",
   "mimetype": "text/x-python",
   "name": "python",
   "nbconvert_exporter": "python",
   "pygments_lexer": "ipython3",
   "version": "3.10.14"
  }
 },
 "nbformat": 4,
 "nbformat_minor": 4
}
